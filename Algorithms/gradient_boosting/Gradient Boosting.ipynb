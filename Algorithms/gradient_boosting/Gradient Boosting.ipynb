{
 "cells": [
  {
   "cell_type": "code",
   "execution_count": 212,
   "metadata": {},
   "outputs": [],
   "source": [
    "# https://explained.ai/gradient-boosting/L2-loss.html"
   ]
  },
  {
   "cell_type": "code",
   "execution_count": 80,
   "metadata": {},
   "outputs": [],
   "source": [
    "import pandas as pd\n",
    "import numpy as np\n",
    "from sklearn.model_selection import train_test_split\n",
    "import random"
   ]
  },
  {
   "cell_type": "code",
   "execution_count": 33,
   "metadata": {},
   "outputs": [],
   "source": [
    "import seaborn as sns\n",
    "tips = sns.load_dataset('tips')"
   ]
  },
  {
   "cell_type": "code",
   "execution_count": 34,
   "metadata": {},
   "outputs": [
    {
     "data": {
      "text/plain": [
       "(244, 7)"
      ]
     },
     "execution_count": 34,
     "metadata": {},
     "output_type": "execute_result"
    }
   ],
   "source": [
    "tips.shape"
   ]
  },
  {
   "cell_type": "code",
   "execution_count": 54,
   "metadata": {},
   "outputs": [],
   "source": [
    "def convert_col_one_hot_series(series, drop_first=False, method='get_dummies'):\n",
    "    one_hot = pd.get_dummies(series, prefix=(str(series.name)), drop_first=drop_first)\n",
    "    return one_hot\n",
    "\n",
    "def replace_col_with_one_hot(df, col, drop_column=False, drop_first=False, method='get_dummies'):\n",
    "\n",
    "    # Get one-hot encoding\n",
    "    one_hot = convert_col_one_hot_series(df[col])\n",
    "\n",
    "    if drop_column:\n",
    "        df = df.drop(col,axis = 1)\n",
    "    \n",
    "    # Join the encoded df\n",
    "    df = df.join(one_hot)\n",
    "\n",
    "    return df\n",
    "\n",
    "def MSE(y, yHat):\n",
    "    return ((y-yHat)**2).sum()"
   ]
  },
  {
   "cell_type": "code",
   "execution_count": 36,
   "metadata": {},
   "outputs": [
    {
     "name": "stdout",
     "output_type": "stream",
     "text": [
      "Male      157\n",
      "Female     87\n",
      "Name: sex, dtype: int64\n",
      "No     151\n",
      "Yes     93\n",
      "Name: smoker, dtype: int64\n",
      "Sat     87\n",
      "Sun     76\n",
      "Thur    62\n",
      "Fri     19\n",
      "Name: day, dtype: int64\n",
      "Dinner    176\n",
      "Lunch      68\n",
      "Name: time, dtype: int64\n"
     ]
    }
   ],
   "source": [
    "print tips['sex'].value_counts()\n",
    "print tips['smoker'].value_counts()\n",
    "print tips['day'].value_counts()\n",
    "print tips['time'].value_counts()"
   ]
  },
  {
   "cell_type": "code",
   "execution_count": 37,
   "metadata": {},
   "outputs": [],
   "source": [
    "tips = replace_col_with_one_hot(tips, 'sex', True)\n",
    "tips = replace_col_with_one_hot(tips, 'smoker', True)\n",
    "tips = replace_col_with_one_hot(tips, 'day', True)\n",
    "tips = replace_col_with_one_hot(tips, 'time', True)"
   ]
  },
  {
   "cell_type": "code",
   "execution_count": 38,
   "metadata": {},
   "outputs": [],
   "source": [
    "# Test Train Split\n",
    "Y = tips['tip']\n",
    "X = tips.loc[:, ~tips.columns.isin(['tip'])]\n",
    "X_train, X_valid, Y_train, Y_valid, idx1, idx2 = train_test_split(\n",
    "            X, \n",
    "            Y, \n",
    "            np.arange(X.shape[0]), \n",
    "            test_size = 0.2, \n",
    "            random_state = 111\n",
    "        )"
   ]
  },
  {
   "cell_type": "markdown",
   "metadata": {},
   "source": [
    "### Basic Regression Tree"
   ]
  },
  {
   "cell_type": "code",
   "execution_count": 56,
   "metadata": {},
   "outputs": [
    {
     "name": "stdout",
     "output_type": "stream",
     "text": [
      "MSE:\n",
      "64.05310000000001\n"
     ]
    }
   ],
   "source": [
    "# Basic Regression Tree\n",
    "from sklearn import tree\n",
    "clf = tree.DecisionTreeRegressor()\n",
    "clf = clf.fit(X_train, Y_train)\n",
    "\n",
    "preds = clf.predict(X_valid)\n",
    "print 'MSE:'\n",
    "print MSE(Y_valid, preds)"
   ]
  },
  {
   "cell_type": "code",
   "execution_count": 70,
   "metadata": {},
   "outputs": [
    {
     "name": "stdout",
     "output_type": "stream",
     "text": [
      "    total_bill  size  sex_Male  sex_Female  smoker_Yes  smoker_No  day_Thur  \\\n",
      "6         8.77     2         1           0           0          1         0   \n",
      "44       30.40     4         1           0           0          1         0   \n",
      "3        23.68     2         1           0           0          1         0   \n",
      "\n",
      "    day_Fri  day_Sat  day_Sun  time_Lunch  time_Dinner  \n",
      "6         0        0        1           0            1  \n",
      "44        0        0        1           0            1  \n",
      "3         0        0        1           0            1  \n",
      "6     2.00\n",
      "44    5.60\n",
      "3     3.31\n",
      "Name: tip, dtype: float64\n"
     ]
    }
   ],
   "source": [
    "print X_train.head(3)\n",
    "print Y_train.head(3)\n",
    "# X_train.append(Y_train)\n",
    "ll = pd.concat([X_train, Y_train], axis=1)"
   ]
  },
  {
   "cell_type": "code",
   "execution_count": 79,
   "metadata": {},
   "outputs": [],
   "source": [
    "# Y_train.name\n",
    "ll.sample(n=ll.shape[0], replace=True)\n",
    "\n",
    "yy = ll['tip']\n",
    "xx = ll.loc[:, ~ll.columns.isin(['tip'])]\n",
    "\n"
   ]
  },
  {
   "cell_type": "code",
   "execution_count": null,
   "metadata": {},
   "outputs": [],
   "source": []
  },
  {
   "cell_type": "markdown",
   "metadata": {},
   "source": [
    "### Basic Random Forest"
   ]
  },
  {
   "cell_type": "code",
   "execution_count": 157,
   "metadata": {},
   "outputs": [],
   "source": [
    "class RF_Regressor(object):\n",
    "    def __init__(self, numLearners=10):\n",
    "        self.learners = []\n",
    "        self.numLearners = numLearners\n",
    "    \n",
    "    def fit(self, X_train, Y_train, RANDOMIZE=True):\n",
    "        \n",
    "        Xtemp = pd.concat([X_train, Y_train], axis=1)\n",
    "        \n",
    "        # Train learners till numLearners and store them in self.learners\n",
    "        for i in range(self.numLearners):\n",
    "            tempModel = {}        \n",
    "            \n",
    "            # Decorrelate trees by sampling with replacement rows (bootstraping) + sampling columns\n",
    "            # Sample rows with replacement\n",
    "            if RANDOMIZE:\n",
    "                Xtemp = Xtemp.sample(n=Xtemp.shape[0], replace=True)\n",
    "            else:\n",
    "                Xtemp = Xtemp\n",
    "            tempX = Xtemp.loc[:, ~Xtemp.columns.isin([Y_train.name])]\n",
    "            tempY = Xtemp[Y_train.name]\n",
    "            # Sample columns\n",
    "            if RANDOMIZE:\n",
    "                randomCols = random.sample(tempX.columns, random.randint(len(tempX.columns)/2, len(tempX.columns)))\n",
    "            else:\n",
    "                randomCols = tempX.columns\n",
    "                \n",
    "            xTempRandomized = tempX[randomCols]\n",
    "            \n",
    "            tempModel['cols'] = randomCols\n",
    "            tempModel['model'] = tree.DecisionTreeRegressor()\n",
    "\n",
    "            # Train model\n",
    "            tempModel['model'] = tempModel['model'].fit(xTempRandomized, tempY)\n",
    "            self.learners.append(tempModel)\n",
    "\n",
    "    def predict(self, X_valid, Y_valid):\n",
    "        \n",
    "        mse = 0\n",
    "        # Predict from each trained model\n",
    "        for model in self.learners:\n",
    "            preds = model['model'].predict(X_valid[model['cols']])\n",
    "            tempMSE = MSE(Y_valid, preds)\n",
    "#             print tempMSE\n",
    "            mse += tempMSE\n",
    "        return mse/float(len(self.learners))"
   ]
  },
  {
   "cell_type": "code",
   "execution_count": 158,
   "metadata": {},
   "outputs": [
    {
     "name": "stdout",
     "output_type": "stream",
     "text": [
      "MSE:\n",
      "109.77722528726682\n"
     ]
    }
   ],
   "source": [
    "rf = RF_Regressor()\n",
    "rf.fit(X_train, Y_train, True)\n",
    "\n",
    "print 'MSE:'\n",
    "print rf.predict(X_valid, Y_valid)\n",
    "\n",
    "# RF usually better for generalization purposes when the data is such that normal trees suffer from overfitting\n",
    "# Here, its a simple situation and decision trees are relatively stable, hence agg through RF not providing much value prop"
   ]
  },
  {
   "cell_type": "code",
   "execution_count": null,
   "metadata": {},
   "outputs": [],
   "source": []
  },
  {
   "cell_type": "markdown",
   "metadata": {},
   "source": [
    "### Basic Gradient Boosting"
   ]
  },
  {
   "cell_type": "code",
   "execution_count": 253,
   "metadata": {},
   "outputs": [],
   "source": [
    "class GBT_Regressor(object):\n",
    "    def __init__(self, numLearners=10):\n",
    "        self.learners = []\n",
    "        self.numLearners = numLearners\n",
    "        self.alpha = .66\n",
    "    \n",
    "    def fit(self, X_train, Y_train, RANDOMIZE=False):\n",
    "        \n",
    "        self.learners.append({'yPreds':pd.Series([0]*Y_train.shape[0])})\n",
    "        newY = Y_train.reset_index(drop=True)\n",
    "        \n",
    "        # Train learners till numLearners and store them in self.learners\n",
    "        for i in range(1, self.numLearners):\n",
    "#             newY = Y_train.reset_index(drop=True) - self.learners[i-1]['yPreds']\n",
    "            newY = newY - self.alpha*self.learners[i-1]['yPreds']\n",
    "            tempModel = {}\n",
    "            \n",
    "#             tempModel['cols'] = randomCols\n",
    "            tempModel['model'] = tree.DecisionTreeRegressor()\n",
    "\n",
    "            # Train model\n",
    "            tempModel['model'] = tempModel['model'].fit(X_train, newY)\n",
    "            tempModel['yPreds'] = tempModel['model'].predict(X_train)\n",
    "            \n",
    "            self.learners.append(tempModel)\n",
    "\n",
    "    def predict(self, X_valid, Y_valid):\n",
    "        \n",
    "        yPred = pd.Series([0.0]*Y_valid.shape[0]).values\n",
    "        # Predict from each trained model\n",
    "        for i in range(1, len(self.learners)):\n",
    "            model = self.learners[i]\n",
    "            preds = model['model'].predict(X_valid)\n",
    "            yPred += self.alpha*preds\n",
    "        return MSE(Y_valid, yPred)\n",
    "#         return mse/float(len(self.learners))"
   ]
  },
  {
   "cell_type": "code",
   "execution_count": 258,
   "metadata": {},
   "outputs": [
    {
     "name": "stdout",
     "output_type": "stream",
     "text": [
      "66.903430240241\n"
     ]
    }
   ],
   "source": [
    "gbt = GBT_Regressor(50)\n",
    "gbt.fit(X_train, Y_train, True)\n",
    "\n",
    "# print 'MSE:'\n",
    "print gbt.predict(X_valid, Y_valid)\n",
    "\n"
   ]
  },
  {
   "cell_type": "code",
   "execution_count": null,
   "metadata": {},
   "outputs": [],
   "source": []
  }
 ],
 "metadata": {
  "kernelspec": {
   "display_name": "Python 2",
   "language": "python",
   "name": "python2"
  },
  "language_info": {
   "codemirror_mode": {
    "name": "ipython",
    "version": 2
   },
   "file_extension": ".py",
   "mimetype": "text/x-python",
   "name": "python",
   "nbconvert_exporter": "python",
   "pygments_lexer": "ipython2",
   "version": "2.7.16"
  }
 },
 "nbformat": 4,
 "nbformat_minor": 2
}
