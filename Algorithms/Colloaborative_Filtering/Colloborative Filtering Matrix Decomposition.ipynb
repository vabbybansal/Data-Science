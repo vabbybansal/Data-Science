{
 "cells": [
  {
   "cell_type": "markdown",
   "metadata": {},
   "source": [
    "# Unconstrained Matrix Factorization for Collaborative Filtering"
   ]
  },
  {
   "cell_type": "code",
   "execution_count": 1,
   "metadata": {},
   "outputs": [],
   "source": [
    "# imports\n",
    "import numpy as np\n",
    "import pandas as pd\n",
    "\n",
    "import matplotlib.pyplot as plt\n",
    "%matplotlib inline\n",
    "from sklearn.model_selection import train_test_split\n",
    "import sklearn.preprocessing as preprocess"
   ]
  },
  {
   "cell_type": "code",
   "execution_count": 3,
   "metadata": {},
   "outputs": [
    {
     "data": {
      "text/html": [
       "<div>\n",
       "<style scoped>\n",
       "    .dataframe tbody tr th:only-of-type {\n",
       "        vertical-align: middle;\n",
       "    }\n",
       "\n",
       "    .dataframe tbody tr th {\n",
       "        vertical-align: top;\n",
       "    }\n",
       "\n",
       "    .dataframe thead th {\n",
       "        text-align: right;\n",
       "    }\n",
       "</style>\n",
       "<table border=\"1\" class=\"dataframe\">\n",
       "  <thead>\n",
       "    <tr style=\"text-align: right;\">\n",
       "      <th></th>\n",
       "      <th>user_id</th>\n",
       "      <th>movie_id</th>\n",
       "      <th>rating</th>\n",
       "      <th>unix_timestamp</th>\n",
       "    </tr>\n",
       "  </thead>\n",
       "  <tbody>\n",
       "    <tr>\n",
       "      <th>0</th>\n",
       "      <td>1</td>\n",
       "      <td>1</td>\n",
       "      <td>5</td>\n",
       "      <td>874965758</td>\n",
       "    </tr>\n",
       "    <tr>\n",
       "      <th>1</th>\n",
       "      <td>1</td>\n",
       "      <td>2</td>\n",
       "      <td>3</td>\n",
       "      <td>876893171</td>\n",
       "    </tr>\n",
       "    <tr>\n",
       "      <th>2</th>\n",
       "      <td>1</td>\n",
       "      <td>3</td>\n",
       "      <td>4</td>\n",
       "      <td>878542960</td>\n",
       "    </tr>\n",
       "    <tr>\n",
       "      <th>3</th>\n",
       "      <td>1</td>\n",
       "      <td>4</td>\n",
       "      <td>3</td>\n",
       "      <td>876893119</td>\n",
       "    </tr>\n",
       "    <tr>\n",
       "      <th>4</th>\n",
       "      <td>1</td>\n",
       "      <td>5</td>\n",
       "      <td>3</td>\n",
       "      <td>889751712</td>\n",
       "    </tr>\n",
       "  </tbody>\n",
       "</table>\n",
       "</div>"
      ],
      "text/plain": [
       "   user_id  movie_id  rating  unix_timestamp\n",
       "0        1         1       5       874965758\n",
       "1        1         2       3       876893171\n",
       "2        1         3       4       878542960\n",
       "3        1         4       3       876893119\n",
       "4        1         5       3       889751712"
      ]
     },
     "execution_count": 3,
     "metadata": {},
     "output_type": "execute_result"
    }
   ],
   "source": [
    "# Load the dataset\n",
    "ratings_base = pd.read_csv('datafiles/ml-100k/ua.base', sep='\\t', names=['user_id', 'movie_id', 'rating', 'unix_timestamp'])\n",
    "ratings_test = pd.read_csv('datafiles/ml-100k/ua.test', sep='\\t', names=['user_id', 'movie_id', 'rating', 'unix_timestamp'])\n",
    "# test = pd.read_csv('test.csv')\n",
    "ratings_base.head()"
   ]
  },
  {
   "cell_type": "code",
   "execution_count": 153,
   "metadata": {},
   "outputs": [
    {
     "data": {
      "text/plain": [
       "array([[5., 3., 4., ..., 0., 0., 0.],\n",
       "       [4., 0., 0., ..., 0., 0., 0.],\n",
       "       [0., 0., 0., ..., 0., 0., 0.],\n",
       "       ...,\n",
       "       [5., 0., 0., ..., 0., 0., 0.],\n",
       "       [0., 0., 0., ..., 0., 0., 0.],\n",
       "       [0., 5., 0., ..., 0., 0., 0.]])"
      ]
     },
     "execution_count": 153,
     "metadata": {},
     "output_type": "execute_result"
    }
   ],
   "source": [
    "#Convert the dataset into a matrix of ratings\n",
    "df_matrix = np.zeros((ratings_base['user_id'].max(), ratings_base['movie_id'].max())) # rows = num of users, cols = num of movies\n",
    "for row in range(ratings_base.shape[0]):\n",
    "    df_matrix[int(ratings_base.iloc[row]['user_id']) - 1][int(ratings_base.iloc[row]['movie_id']) - 1] = ratings_base.iloc[row]['rating']\n",
    "df_matrix"
   ]
  },
  {
   "cell_type": "code",
   "execution_count": 156,
   "metadata": {},
   "outputs": [],
   "source": [
    "# df_matrix.shape"
   ]
  },
  {
   "cell_type": "markdown",
   "metadata": {},
   "source": [
    "# Data Manipulation"
   ]
  },
  {
   "cell_type": "code",
   "execution_count": 4,
   "metadata": {},
   "outputs": [],
   "source": [
    "# Function to change the scale of 'ratings' [grouped on 'user_id' using DataFrame.groupby('user_id').transform(customFunction)]\n",
    "def scaleRatingsPerUser(df):\n",
    "    if df.name == 'rating':\n",
    "        scaledRatings = preprocess.scale(df.values)\n",
    "        return scaledRatings\n",
    "    else:\n",
    "        return df"
   ]
  },
  {
   "cell_type": "code",
   "execution_count": 6,
   "metadata": {},
   "outputs": [
    {
     "name": "stderr",
     "output_type": "stream",
     "text": [
      "/usr/local/lib/python2.7/site-packages/sklearn/utils/validation.py:475: DataConversionWarning: Data with input dtype int64 was converted to float64 by the scale function.\n",
      "  warnings.warn(msg, DataConversionWarning)\n"
     ]
    }
   ],
   "source": [
    "# Centre and Scale the ratings - Mean: 0, Standard Dev: 1\n",
    "# Thus, in the collaborative filtering, nulls can be easily shown as 0 (mean behavior)\n",
    "ratings_base_temp = ratings_base.copy()\n",
    "dfScaledRatings = ratings_base_temp.groupby('user_id').transform(scaleRatingsPerUser)\n",
    "dfScaledRatings['user_id'] = ratings_base_temp['user_id']"
   ]
  },
  {
   "cell_type": "code",
   "execution_count": 7,
   "metadata": {},
   "outputs": [],
   "source": [
    "#Convert the dataset into a matrix of ratings\n",
    "dfScaledRatings_matrix = np.zeros((dfScaledRatings['user_id'].max(), dfScaledRatings['movie_id'].max())) # rows = num of users, cols = num of movies\n",
    "for row in range(dfScaledRatings.shape[0]):\n",
    "    dfScaledRatings_matrix[int(dfScaledRatings.iloc[row]['user_id']) - 1][int(dfScaledRatings.iloc[row]['movie_id']) - 1] = dfScaledRatings.iloc[row]['rating']\n"
   ]
  },
  {
   "cell_type": "code",
   "execution_count": 9,
   "metadata": {},
   "outputs": [],
   "source": [
    "# dfScaledRatings_matrix"
   ]
  },
  {
   "cell_type": "markdown",
   "metadata": {},
   "source": [
    "# Setup for Learning"
   ]
  },
  {
   "cell_type": "code",
   "execution_count": null,
   "metadata": {},
   "outputs": [],
   "source": [
    "# M = U.V, where U = n*k, T(V) = k*m\n",
    "# where,\n",
    "#     n = num of users\n",
    "#     m = num of movies\n",
    "#     k = num of latent factors, which can be tuned using cross validation"
   ]
  },
  {
   "cell_type": "code",
   "execution_count": 161,
   "metadata": {},
   "outputs": [],
   "source": [
    "# MSE calculation function\n",
    "# Calculate error only for the ratings that were given initially\n",
    "def calcMSEMatrixFactorizationGradientDescent(YMinusYHat, unscaledMatrix = df_matrix):\n",
    "    mse = 0.0\n",
    "    for i in range(unscaledMatrix.shape[0]):\n",
    "        for j in range(unscaledMatrix.shape[1]):\n",
    "            if unscaledMatrix[i][j] != 0:\n",
    "                mse += 1/float(2)*(YMinusYHat[i][j])**2\n",
    "    return mse\n",
    "                "
   ]
  },
  {
   "cell_type": "code",
   "execution_count": 169,
   "metadata": {},
   "outputs": [],
   "source": [
    "def matrixFactorizationGradientDescent(Y, U, V, learningRate, iterations):\n",
    "    \n",
    "    # Store the MSE for all the iteration levels\n",
    "    MSE_Iteration = {'iteration':[], 'MSE': []}\n",
    "    \n",
    "    for i in range(iterations):\n",
    "\n",
    "        # Multiply U and V to get the prediction matrix YHat\n",
    "        Vtranspose = V.transpose()\n",
    "        YHat = np.dot(U, Vtranspose)\n",
    "        # Error Matrix / Cost Function J\n",
    "#         J = 1/float(2) * np.square(np.subtract(Y, YHat))\n",
    "        J = calcMSEMatrixFactorizationGradientDescent(np.subtract(Y, YHat))\n",
    "        \n",
    "        # Store the error (frobenious norm) along with the Gradient Descent iteration\n",
    "        MSE_Iteration['iteration'].append(i)\n",
    "        MSE_Iteration['MSE'].append(J)\n",
    "        \n",
    "        \n",
    "        # Gradient Descent\n",
    "        # J = 1/2 * ((Y - U.Vtrans)^2)\n",
    "        # δJ/δU = (Y - U.Vtrans) * V\n",
    "        # δJ/δV = (Y - U.Vtrans) * U\n",
    "\n",
    "        delJ_WRT_U = -np.dot(np.subtract(Y, YHat), V)\n",
    "        delJ_WRT_V = -np.dot(np.subtract(Y, YHat).transpose(), U)\n",
    "\n",
    "        # Update the Vectors U and V\n",
    "        U = U - learningRate * delJ_WRT_U\n",
    "        V = V - learningRate * delJ_WRT_V\n",
    "    \n",
    "    # Plot the error with respect to the iteration\n",
    "    plt.plot(MSE_Iteration['iteration'], MSE_Iteration['MSE'])\n",
    "    return MSE_Iteration"
   ]
  },
  {
   "cell_type": "code",
   "execution_count": 170,
   "metadata": {},
   "outputs": [
    {
     "data": {
      "text/plain": [
       "{'MSE': [124265.26140016463,\n",
       "  82478.94656285159,\n",
       "  67486.15125647525,\n",
       "  60067.05359855177,\n",
       "  55783.69892199193,\n",
       "  53068.60312897061,\n",
       "  51235.77211388301,\n",
       "  49941.41068637633,\n",
       "  48996.00750331968,\n",
       "  48287.378440868844,\n",
       "  47745.31117769476,\n",
       "  47323.847774336195,\n",
       "  46991.77726319361,\n",
       "  46727.24233518405,\n",
       "  46514.53507365181,\n",
       "  46342.11701630096,\n",
       "  46201.35353063558,\n",
       "  46085.68037680975,\n",
       "  45990.04019756983,\n",
       "  45910.4923998331,\n",
       "  45843.93725888153,\n",
       "  45787.917005789895,\n",
       "  45740.469895878115,\n",
       "  45700.02144917353,\n",
       "  45665.30224093885,\n",
       "  45635.28497214139,\n",
       "  45609.13575685919,\n",
       "  45586.17604252535,\n",
       "  45565.85258615586,\n",
       "  45547.71360660662,\n",
       "  45531.38972206545,\n",
       "  45516.578630500655,\n",
       "  45503.03274235589,\n",
       "  45490.54915892671,\n",
       "  45478.96152630443,\n",
       "  45468.133397141755,\n",
       "  45457.95281022044,\n",
       "  45448.32785739895,\n",
       "  45439.18305369845,\n",
       "  45430.45636241105,\n",
       "  45422.096755598905,\n",
       "  45414.06221294033,\n",
       "  45406.31807996367,\n",
       "  45398.8357212557,\n",
       "  45391.59141592287,\n",
       "  45384.56545214123,\n",
       "  45377.7413853529,\n",
       "  45371.10543098755,\n",
       "  45364.64596777279,\n",
       "  45358.35313191481],\n",
       " 'iteration': [0,\n",
       "  1,\n",
       "  2,\n",
       "  3,\n",
       "  4,\n",
       "  5,\n",
       "  6,\n",
       "  7,\n",
       "  8,\n",
       "  9,\n",
       "  10,\n",
       "  11,\n",
       "  12,\n",
       "  13,\n",
       "  14,\n",
       "  15,\n",
       "  16,\n",
       "  17,\n",
       "  18,\n",
       "  19,\n",
       "  20,\n",
       "  21,\n",
       "  22,\n",
       "  23,\n",
       "  24,\n",
       "  25,\n",
       "  26,\n",
       "  27,\n",
       "  28,\n",
       "  29,\n",
       "  30,\n",
       "  31,\n",
       "  32,\n",
       "  33,\n",
       "  34,\n",
       "  35,\n",
       "  36,\n",
       "  37,\n",
       "  38,\n",
       "  39,\n",
       "  40,\n",
       "  41,\n",
       "  42,\n",
       "  43,\n",
       "  44,\n",
       "  45,\n",
       "  46,\n",
       "  47,\n",
       "  48,\n",
       "  49]}"
      ]
     },
     "execution_count": 170,
     "metadata": {},
     "output_type": "execute_result"
    },
    {
     "data": {
      "image/png": "[encoded data removed]",
      "text/plain": [
       "<Figure size 432x288 with 1 Axes>"
      ]
     },
     "metadata": {},
     "output_type": "display_data"
    }
   ],
   "source": [
    "# Initialize variables\n",
    "n = dfScaledRatings_matrix.shape[0]\n",
    "m = dfScaledRatings_matrix.shape[1]\n",
    "k = 5 # for starting out\n",
    "\n",
    "# Initialize the decomposed matrices\n",
    "np.random.seed(123)\n",
    "U = np.random.rand(n,k)\n",
    "V = np.random.rand(m,k)\n",
    "# Rename Y\n",
    "Y = dfScaledRatings_matrix\n",
    "\n",
    "# Start the gradient descent routine\n",
    "matrixFactorizationGradientDescent(Y, U, V, .0001, 10)"
   ]
  },
  {
   "cell_type": "code",
   "execution_count": 168,
   "metadata": {},
   "outputs": [
    {
     "data": {
      "text/plain": [
       "{'MSE': [124265.26140016463,\n",
       "  93644.73863605128,\n",
       "  75027.27159578055,\n",
       "  63706.56842448362,\n",
       "  56820.9591334754,\n",
       "  52630.57466434459,\n",
       "  50077.72604544106,\n",
       "  48519.53511666915,\n",
       "  47565.33233471165,\n",
       "  46977.77462662908,\n",
       "  46612.71702220062,\n",
       "  46382.65295293029,\n",
       "  46234.48745654094,\n",
       "  46136.02614952916,\n",
       "  46067.76378078043,\n",
       "  46017.8948326936,\n",
       "  45979.28280527617,\n",
       "  45947.61997961057,\n",
       "  45920.31059088232,\n",
       "  45895.793466567724,\n",
       "  45873.131539743285,\n",
       "  45851.76335340742,\n",
       "  45831.352833653786,\n",
       "  45811.698630345636,\n",
       "  45792.67953031117,\n",
       "  45774.221687419005,\n",
       "  45756.279026068,\n",
       "  45738.82158208052,\n",
       "  45721.82861295255,\n",
       "  45705.28456345183,\n",
       "  45689.176732538464,\n",
       "  45673.49394753489,\n",
       "  45658.22582952779,\n",
       "  45643.36240170823,\n",
       "  45628.89389339421,\n",
       "  45614.81065299359,\n",
       "  45601.10311945489,\n",
       "  45587.76182322358,\n",
       "  45574.77740046234,\n",
       "  45562.140611713556,\n",
       "  45549.84236043693,\n",
       "  45537.87370931893,\n",
       "  45526.22589354536,\n",
       "  45514.89033094334,\n",
       "  45503.858629235285,\n",
       "  45493.122590783736,\n",
       "  45482.67421523842,\n",
       "  45472.50570047472,\n",
       "  45462.60944218083,\n",
       "  45452.97803237118],\n",
       " 'iteration': [0,\n",
       "  1,\n",
       "  2,\n",
       "  3,\n",
       "  4,\n",
       "  5,\n",
       "  6,\n",
       "  7,\n",
       "  8,\n",
       "  9,\n",
       "  10,\n",
       "  11,\n",
       "  12,\n",
       "  13,\n",
       "  14,\n",
       "  15,\n",
       "  16,\n",
       "  17,\n",
       "  18,\n",
       "  19,\n",
       "  20,\n",
       "  21,\n",
       "  22,\n",
       "  23,\n",
       "  24,\n",
       "  25,\n",
       "  26,\n",
       "  27,\n",
       "  28,\n",
       "  29,\n",
       "  30,\n",
       "  31,\n",
       "  32,\n",
       "  33,\n",
       "  34,\n",
       "  35,\n",
       "  36,\n",
       "  37,\n",
       "  38,\n",
       "  39,\n",
       "  40,\n",
       "  41,\n",
       "  42,\n",
       "  43,\n",
       "  44,\n",
       "  45,\n",
       "  46,\n",
       "  47,\n",
       "  48,\n",
       "  49]}"
      ]
     },
     "execution_count": 168,
     "metadata": {},
     "output_type": "execute_result"
    },
    {
     "data": {
      "image/png": "[encoded data removed]",
      "text/plain": [
       "<Figure size 432x288 with 1 Axes>"
      ]
     },
     "metadata": {},
     "output_type": "display_data"
    }
   ],
   "source": [
    "def matrixFactorizationGradientDescentALS(Y, U, V, learningRate, iterations):\n",
    "    \n",
    "    # Store the MSE for all the iteration levels\n",
    "    MSE_Iteration = {'iteration':[], 'MSE': []}\n",
    "    \n",
    "    for i in range(iterations):\n",
    "\n",
    "        # Multiply U and V to get the prediction matrix YHat\n",
    "        Vtranspose = V.transpose()\n",
    "        YHat = np.dot(U, Vtranspose)\n",
    "        # Error Matrix / Cost Function J\n",
    "#         J = 1/float(2) * np.square(np.subtract(Y, YHat))\n",
    "        J = calcMSEMatrixFactorizationGradientDescent(np.subtract(Y, YHat))\n",
    "        \n",
    "        # Store the error (frobenious norm) along with the Gradient Descent iteration\n",
    "        MSE_Iteration['iteration'].append(i)\n",
    "        MSE_Iteration['MSE'].append(J)\n",
    "        \n",
    "        \n",
    "        # Gradient Descent\n",
    "        # J = 1/2 * ((Y - U.Vtrans)^2)\n",
    "        # δJ/δU = (Y - U.Vtrans) * V\n",
    "        # δJ/δV = (Y - U.Vtrans) * U\n",
    "\n",
    "        if iterations % 2 == 0:            \n",
    "            delJ_WRT_U = -np.dot(np.subtract(Y, YHat), V)\n",
    "            U = U - learningRate * delJ_WRT_U\n",
    "        else:\n",
    "            delJ_WRT_V = -np.dot(np.subtract(Y, YHat).transpose(), U)\n",
    "            V = V - learningRate * delJ_WRT_V\n",
    "\n",
    "        # Update the Vectors U and V\n",
    "\n",
    "        \n",
    "    \n",
    "    # Plot the error with respect to the iteration\n",
    "    plt.plot(MSE_Iteration['iteration'], MSE_Iteration['MSE'])\n",
    "    return MSE_Iteration\n",
    "matrixFactorizationGradientDescentALS(Y, U, V, .0001, 50)"
   ]
  },
  {
   "cell_type": "code",
   "execution_count": 148,
   "metadata": {},
   "outputs": [
    {
     "data": {
      "text/plain": [
       "array([0.79319463, 0.84575889, 0.9909476 , ..., 1.04647376, 1.44794526,\n",
       "       0.67966969])"
      ]
     },
     "execution_count": 148,
     "metadata": {},
     "output_type": "execute_result"
    }
   ],
   "source": [
    "np.dot(U, V.transpose())[3]"
   ]
  },
  {
   "cell_type": "code",
   "execution_count": 138,
   "metadata": {},
   "outputs": [],
   "source": [
    "# plt.plot(range(20), np.dot(U, V.transpose())[0][:20])"
   ]
  },
  {
   "cell_type": "code",
   "execution_count": 137,
   "metadata": {},
   "outputs": [],
   "source": [
    "# plt.plot(range(20), dfScaledRatings_matrix[0][:20])"
   ]
  },
  {
   "cell_type": "code",
   "execution_count": null,
   "metadata": {},
   "outputs": [],
   "source": []
  }
 ],
 "metadata": {
  "kernelspec": {
   "display_name": "Python 2",
   "language": "python",
   "name": "python2"
  },
  "language_info": {
   "codemirror_mode": {
    "name": "ipython",
    "version": 2
   },
   "file_extension": ".py",
   "mimetype": "text/x-python",
   "name": "python",
   "nbconvert_exporter": "python",
   "pygments_lexer": "ipython2",
   "version": "2.7.15"
  }
 },
 "nbformat": 4,
 "nbformat_minor": 2
}
