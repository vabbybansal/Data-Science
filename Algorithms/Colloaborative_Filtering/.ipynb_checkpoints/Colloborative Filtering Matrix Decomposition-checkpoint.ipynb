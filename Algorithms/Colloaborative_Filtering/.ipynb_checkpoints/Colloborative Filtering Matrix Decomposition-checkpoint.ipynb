{
 "cells": [
  {
   "cell_type": "markdown",
   "metadata": {},
   "source": [
    "# Unconstrained Matrix Factorization for Collaborative Filtering"
   ]
  },
  {
   "cell_type": "code",
   "execution_count": 1,
   "metadata": {},
   "outputs": [],
   "source": [
    "# imports\n",
    "import numpy as np\n",
    "import pandas as pd\n",
    "\n",
    "import matplotlib.pyplot as plt\n",
    "%matplotlib inline\n",
    "from sklearn.model_selection import train_test_split\n",
    "import sklearn.preprocessing as preprocess"
   ]
  },
  {
   "cell_type": "code",
   "execution_count": 3,
   "metadata": {},
   "outputs": [
    {
     "data": {
      "text/html": [
       "<div>\n",
       "<style scoped>\n",
       "    .dataframe tbody tr th:only-of-type {\n",
       "        vertical-align: middle;\n",
       "    }\n",
       "\n",
       "    .dataframe tbody tr th {\n",
       "        vertical-align: top;\n",
       "    }\n",
       "\n",
       "    .dataframe thead th {\n",
       "        text-align: right;\n",
       "    }\n",
       "</style>\n",
       "<table border=\"1\" class=\"dataframe\">\n",
       "  <thead>\n",
       "    <tr style=\"text-align: right;\">\n",
       "      <th></th>\n",
       "      <th>user_id</th>\n",
       "      <th>movie_id</th>\n",
       "      <th>rating</th>\n",
       "      <th>unix_timestamp</th>\n",
       "    </tr>\n",
       "  </thead>\n",
       "  <tbody>\n",
       "    <tr>\n",
       "      <th>0</th>\n",
       "      <td>1</td>\n",
       "      <td>1</td>\n",
       "      <td>5</td>\n",
       "      <td>874965758</td>\n",
       "    </tr>\n",
       "    <tr>\n",
       "      <th>1</th>\n",
       "      <td>1</td>\n",
       "      <td>2</td>\n",
       "      <td>3</td>\n",
       "      <td>876893171</td>\n",
       "    </tr>\n",
       "    <tr>\n",
       "      <th>2</th>\n",
       "      <td>1</td>\n",
       "      <td>3</td>\n",
       "      <td>4</td>\n",
       "      <td>878542960</td>\n",
       "    </tr>\n",
       "    <tr>\n",
       "      <th>3</th>\n",
       "      <td>1</td>\n",
       "      <td>4</td>\n",
       "      <td>3</td>\n",
       "      <td>876893119</td>\n",
       "    </tr>\n",
       "    <tr>\n",
       "      <th>4</th>\n",
       "      <td>1</td>\n",
       "      <td>5</td>\n",
       "      <td>3</td>\n",
       "      <td>889751712</td>\n",
       "    </tr>\n",
       "  </tbody>\n",
       "</table>\n",
       "</div>"
      ],
      "text/plain": [
       "   user_id  movie_id  rating  unix_timestamp\n",
       "0        1         1       5       874965758\n",
       "1        1         2       3       876893171\n",
       "2        1         3       4       878542960\n",
       "3        1         4       3       876893119\n",
       "4        1         5       3       889751712"
      ]
     },
     "execution_count": 3,
     "metadata": {},
     "output_type": "execute_result"
    }
   ],
   "source": [
    "# Load the dataset\n",
    "ratings_base = pd.read_csv('datafiles/ml-100k/ua.base', sep='\\t', names=['user_id', 'movie_id', 'rating', 'unix_timestamp'])\n",
    "ratings_test = pd.read_csv('datafiles/ml-100k/ua.test', sep='\\t', names=['user_id', 'movie_id', 'rating', 'unix_timestamp'])\n",
    "# test = pd.read_csv('test.csv')\n",
    "ratings_base.head()"
   ]
  },
  {
   "cell_type": "markdown",
   "metadata": {},
   "source": [
    "# Data Manipulation"
   ]
  },
  {
   "cell_type": "code",
   "execution_count": 4,
   "metadata": {},
   "outputs": [],
   "source": [
    "# Function to change the scale of 'ratings' [grouped on 'user_id' using DataFrame.groupby('user_id').transform(customFunction)]\n",
    "def scaleRatingsPerUser(df):\n",
    "    if df.name == 'rating':\n",
    "        scaledRatings = preprocess.scale(df.values)\n",
    "        return scaledRatings\n",
    "    else:\n",
    "        return df"
   ]
  },
  {
   "cell_type": "code",
   "execution_count": 6,
   "metadata": {},
   "outputs": [
    {
     "name": "stderr",
     "output_type": "stream",
     "text": [
      "/usr/local/lib/python2.7/site-packages/sklearn/utils/validation.py:475: DataConversionWarning: Data with input dtype int64 was converted to float64 by the scale function.\n",
      "  warnings.warn(msg, DataConversionWarning)\n"
     ]
    }
   ],
   "source": [
    "# Centre and Scale the ratings - Mean: 0, Standard Dev: 1\n",
    "# Thus, in the collaborative filtering, nulls can be easily shown as 0 (mean behavior)\n",
    "ratings_base_temp = ratings_base.copy()\n",
    "dfScaledRatings = ratings_base_temp.groupby('user_id').transform(scaleRatingsPerUser)\n",
    "dfScaledRatings['user_id'] = ratings_base_temp['user_id']"
   ]
  },
  {
   "cell_type": "code",
   "execution_count": 7,
   "metadata": {},
   "outputs": [],
   "source": [
    "#Convert the dataset into a matrix of ratings\n",
    "dfScaledRatings_matrix = np.zeros((dfScaledRatings['user_id'].max(), dfScaledRatings['movie_id'].max())) # rows = num of users, cols = num of movies\n",
    "for row in range(dfScaledRatings.shape[0]):\n",
    "    dfScaledRatings_matrix[int(dfScaledRatings.iloc[row]['user_id']) - 1][int(dfScaledRatings.iloc[row]['movie_id']) - 1] = dfScaledRatings.iloc[row]['rating']\n"
   ]
  },
  {
   "cell_type": "code",
   "execution_count": 9,
   "metadata": {},
   "outputs": [],
   "source": [
    "# dfScaledRatings_matrix"
   ]
  },
  {
   "cell_type": "markdown",
   "metadata": {},
   "source": [
    "# Setup for Learning"
   ]
  },
  {
   "cell_type": "code",
   "execution_count": null,
   "metadata": {},
   "outputs": [],
   "source": [
    "# M = U.V, where U = n*k, T(V) = k*m\n",
    "# where,\n",
    "#     n = num of users\n",
    "#     m = num of movies\n",
    "#     k = num of latent factors, which can be tuned using cross validation"
   ]
  },
  {
   "cell_type": "code",
   "execution_count": null,
   "metadata": {},
   "outputs": [],
   "source": [
    "def matrixFactorizationGradientDescent(Y, U, V, learningRate, iterations):\n",
    "    \n",
    "    # Store the MSE for all the iteration levels\n",
    "    MSE_Iteration = {'iteration':[], 'MSE': []}\n",
    "    \n",
    "    for i in range(iterations):\n",
    "\n",
    "        # Multiply U and V to get the prediction matrix YHat\n",
    "        Vtranspose = V.transpose()\n",
    "        YHat = np.dot(U, Vtranspose)\n",
    "        # Error Matrix / Cost Function J\n",
    "        J = 1/float(2) * np.square(np.subtract(Y, YHat))\n",
    "        \n",
    "        # Store the error (frobenious norm) along with the Gradient Descent iteration\n",
    "        MSE_Iteration['iteration'].append(i)\n",
    "        MSE_Iteration['MSE'].append(J.sum())\n",
    "        \n",
    "        \n",
    "        # Gradient Descent\n",
    "        # J = 1/2 * ((Y - U.Vtrans)^2)\n",
    "        # δJ/δU = (Y - U.Vtrans) * V\n",
    "        # δJ/δV = (Y - U.Vtrans) * U\n",
    "\n",
    "        delJ_WRT_U = -np.dot(np.subtract(Y, YHat), V)\n",
    "        delJ_WRT_V = -np.dot(np.subtract(Y, YHat).transpose(), U)\n",
    "\n",
    "        # Update the Vectors U and V\n",
    "        U = U - learningRate * delJ_WRT_U\n",
    "        V = V - learningRate * delJ_WRT_V\n",
    "    \n",
    "    # Plot the error with respect to the iteration\n",
    "    plt.plot(MSE_Iteration['iteration'], MSE_Iteration['MSE'])\n",
    "    "
   ]
  },
  {
   "cell_type": "code",
   "execution_count": 103,
   "metadata": {},
   "outputs": [
    {
     "data": {
      "image/png": "[encoded data removed]",
      "text/plain": [
       "<Figure size 432x288 with 1 Axes>"
      ]
     },
     "metadata": {},
     "output_type": "display_data"
    }
   ],
   "source": [
    "# Initialize variables\n",
    "n = dfScaledRatings_matrix.shape[0]\n",
    "m = dfScaledRatings_matrix.shape[1]\n",
    "k = 5 # for starting out\n",
    "\n",
    "# Initialize the decomposed matrices\n",
    "np.random.seed(123)\n",
    "U = np.random.rand(n,k)\n",
    "V = np.random.rand(m,k)\n",
    "# Rename Y\n",
    "Y = dfScaledRatings_matrix\n",
    "\n",
    "# Start the gradient descent routine\n",
    "matrixFactorizationGradientDescent(Y, U, V, .001, 1000)"
   ]
  },
  {
   "cell_type": "code",
   "execution_count": null,
   "metadata": {},
   "outputs": [],
   "source": []
  }
 ],
 "metadata": {
  "kernelspec": {
   "display_name": "Python 2",
   "language": "python",
   "name": "python2"
  },
  "language_info": {
   "codemirror_mode": {
    "name": "ipython",
    "version": 2
   },
   "file_extension": ".py",
   "mimetype": "text/x-python",
   "name": "python",
   "nbconvert_exporter": "python",
   "pygments_lexer": "ipython2",
   "version": "2.7.14"
  }
 },
 "nbformat": 4,
 "nbformat_minor": 2
}
