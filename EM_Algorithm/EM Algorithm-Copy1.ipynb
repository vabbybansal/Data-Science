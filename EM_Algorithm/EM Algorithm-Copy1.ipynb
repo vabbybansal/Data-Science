{
 "cells": [
  {
   "cell_type": "markdown",
   "metadata": {},
   "source": [
    "## Introduction"
   ]
  },
  {
   "cell_type": "code",
   "execution_count": 1,
   "metadata": {},
   "outputs": [],
   "source": [
    "# This is my attempt to write the EM algorithm from scratch for Gaussian Mixtures model.\n",
    "# Again, EM algorithm is an iterative recipie required to find the maximum likelihood estimate in a problem where the standard MLE steps are intractable in closed form due to the induction of some latent (hidden) variables. In the case of Gaussian Mixtures models, for the case of >= 2 gaussians, we do not know which gaussian each data point belongs to, which are the inherent latent variables in this problem setting\n",
    "\n",
    "# Agenda\n",
    "# 1) Create data points using pre-declared gaussians (The aim will be to learn these gaussians from the data)\n",
    "# 2) Initialize the means, standard-deviations and mixture proportions\n",
    "#     - Create smarter estimates using k-means [To Do]\n",
    "# 3) Iterate the E step and the M step to increase the log-likelihood with each step\n",
    "# 4) Animate the process [To Do]\n",
    "\n",
    "# Great tutorial on EM Algorithm\n",
    "# https://stephens999.github.io/fiveMinuteStats/intro_to_mixture_models.html\n",
    "# https://stephens999.github.io/fiveMinuteStats/intro_to_em.html"
   ]
  },
  {
   "cell_type": "code",
   "execution_count": 2,
   "metadata": {},
   "outputs": [],
   "source": [
    "import numpy as np\n",
    "import scipy.stats\n",
    "import math\n",
    "from tqdm import tqdm\n",
    "import pandas as pd\n",
    "import matplotlib.pyplot as plt\n"
   ]
  },
  {
   "cell_type": "code",
   "execution_count": 3,
   "metadata": {},
   "outputs": [],
   "source": [
    "# num of Gaussians\n",
    "k = 2"
   ]
  },
  {
   "cell_type": "markdown",
   "metadata": {},
   "source": [
    "## Create Input data from two gaussians which we will try to learn later"
   ]
  },
  {
   "cell_type": "code",
   "execution_count": 13,
   "metadata": {},
   "outputs": [
    {
     "name": "stdout",
     "output_type": "stream",
     "text": [
      "mean:5586.65108659\n",
      "sd:9.34049012356\n",
      "num_elms:18137\n",
      "mean:8475.83415187\n",
      "sd:10.5251620073\n",
      "num_elms:22243\n"
     ]
    },
    {
     "data": {
      "image/png": "[encoded data removed]",
      "text/plain": [
       "<Figure size 432x288 with 1 Axes>"
      ]
     },
     "metadata": {
      "needs_background": "light"
     },
     "output_type": "display_data"
    }
   ],
   "source": [
    "input_data = []\n",
    "\n",
    "input_gaussians = []\n",
    "\n",
    "for i in range(k):\n",
    "    temp_gaussian = {}\n",
    "    temp_gaussian['mean'] = 10000*np.random.random_sample()\n",
    "    temp_gaussian['sd'] = 5+10*np.random.random_sample()\n",
    "    temp_gaussian['dist'] = []\n",
    "    temp_gaussian['num_elms'] = int(30000*np.random.random_sample())\n",
    "    for count in range(temp_gaussian['num_elms']):\n",
    "        temp_gaussian['dist'].append(np.random.normal(loc=temp_gaussian['mean'], scale=temp_gaussian['sd'], size=None))\n",
    "    temp_gaussian['dist'] = np.array(temp_gaussian['dist'])\n",
    "    input_gaussians.append(temp_gaussian)\n",
    "    input_data += list(temp_gaussian['dist'])\n",
    "    \n",
    "\n",
    "import random\n",
    "for gaussian in input_gaussians:\n",
    "    print 'mean:' + str(gaussian['mean'])\n",
    "    print 'sd:' + str(gaussian['sd'])\n",
    "    print 'num_elms:' + str(gaussian['num_elms'])\n",
    "    plt.hist(gaussian['dist'], color=(\"#\"+''.join([random.choice('0123456789ABCDEF') for j in range(6)])))\n",
    "# plt.hist(input_gaussians[1], color='green')"
   ]
  },
  {
   "cell_type": "code",
   "execution_count": 14,
   "metadata": {},
   "outputs": [
    {
     "data": {
      "text/plain": [
       "(40380,)"
      ]
     },
     "execution_count": 14,
     "metadata": {},
     "output_type": "execute_result"
    }
   ],
   "source": [
    "input_data = np.array(pd.Series(input_data).sample(len(input_data)))\n",
    "input_data.shape"
   ]
  },
  {
   "cell_type": "code",
   "execution_count": 15,
   "metadata": {},
   "outputs": [],
   "source": [
    "# The EM Algorithm"
   ]
  },
  {
   "cell_type": "code",
   "execution_count": 16,
   "metadata": {},
   "outputs": [],
   "source": [
    "range_constant = input_data.mean()\n",
    "sd_constant = input_data.std()"
   ]
  },
  {
   "cell_type": "markdown",
   "metadata": {},
   "source": [
    "## Initialize the means and sds"
   ]
  },
  {
   "cell_type": "code",
   "execution_count": 17,
   "metadata": {},
   "outputs": [],
   "source": [
    "mews = []\n",
    "sd = []\n",
    "for i in range(k):\n",
    "    mews.append(range_constant*np.random.random_sample())\n",
    "    sd.append(sd_constant*np.random.random_sample())\n",
    "mews = np.array(mews)\n",
    "sd = np.array(sd)\n",
    "mix_weights = k*[1/float(k)]"
   ]
  },
  {
   "cell_type": "markdown",
   "metadata": {},
   "source": [
    "## Run the E and M step iteratively for n runs"
   ]
  },
  {
   "cell_type": "code",
   "execution_count": 18,
   "metadata": {
    "scrolled": true
   },
   "outputs": [
    {
     "name": "stdout",
     "output_type": "stream",
     "text": [
      "[3254.92930798 1864.22189305]\n",
      "[7178.11223819 5585.71600909]\n",
      "[7178.11223276 6943.33515246]\n"
     ]
    },
    {
     "ename": "KeyboardInterrupt",
     "evalue": "",
     "output_type": "error",
     "traceback": [
      "\u001b[0;31m---------------------------------------------------------------------------\u001b[0m",
      "\u001b[0;31mKeyboardInterrupt\u001b[0m                         Traceback (most recent call last)",
      "\u001b[0;32m<ipython-input-18-5b97e67f24f6>\u001b[0m in \u001b[0;36m<module>\u001b[0;34m()\u001b[0m\n\u001b[1;32m     13\u001b[0m         \u001b[0mratio_k_i\u001b[0m \u001b[0;34m=\u001b[0m \u001b[0;34m[\u001b[0m\u001b[0;34m]\u001b[0m\u001b[0;34m\u001b[0m\u001b[0m\n\u001b[1;32m     14\u001b[0m         \u001b[0;32mfor\u001b[0m \u001b[0mXi\u001b[0m \u001b[0;32min\u001b[0m \u001b[0minput_data\u001b[0m\u001b[0;34m:\u001b[0m\u001b[0;34m\u001b[0m\u001b[0m\n\u001b[0;32m---> 15\u001b[0;31m             \u001b[0mnumer\u001b[0m \u001b[0;34m=\u001b[0m \u001b[0mmix_weights\u001b[0m\u001b[0;34m[\u001b[0m\u001b[0mi\u001b[0m\u001b[0;34m]\u001b[0m \u001b[0;34m*\u001b[0m \u001b[0mscipy\u001b[0m\u001b[0;34m.\u001b[0m\u001b[0mstats\u001b[0m\u001b[0;34m.\u001b[0m\u001b[0mnorm\u001b[0m\u001b[0;34m(\u001b[0m\u001b[0mloc\u001b[0m\u001b[0;34m=\u001b[0m\u001b[0mmews\u001b[0m\u001b[0;34m[\u001b[0m\u001b[0mi\u001b[0m\u001b[0;34m]\u001b[0m\u001b[0;34m,\u001b[0m \u001b[0mscale\u001b[0m\u001b[0;34m=\u001b[0m\u001b[0msd\u001b[0m\u001b[0;34m[\u001b[0m\u001b[0mi\u001b[0m\u001b[0;34m]\u001b[0m\u001b[0;34m)\u001b[0m\u001b[0;34m.\u001b[0m\u001b[0mpdf\u001b[0m\u001b[0;34m(\u001b[0m\u001b[0mXi\u001b[0m\u001b[0;34m)\u001b[0m\u001b[0;34m\u001b[0m\u001b[0m\n\u001b[0m\u001b[1;32m     16\u001b[0m             \u001b[0mdenom\u001b[0m \u001b[0;34m=\u001b[0m \u001b[0;36m0.0\u001b[0m\u001b[0;34m\u001b[0m\u001b[0m\n\u001b[1;32m     17\u001b[0m             \u001b[0;32mfor\u001b[0m \u001b[0mj\u001b[0m \u001b[0;32min\u001b[0m \u001b[0mrange\u001b[0m\u001b[0;34m(\u001b[0m\u001b[0mk\u001b[0m\u001b[0;34m)\u001b[0m\u001b[0;34m:\u001b[0m\u001b[0;34m\u001b[0m\u001b[0m\n",
      "\u001b[0;32m/usr/local/lib/python2.7/site-packages/scipy/stats/_distn_infrastructure.pyc\u001b[0m in \u001b[0;36mpdf\u001b[0;34m(self, x)\u001b[0m\n\u001b[1;32m    448\u001b[0m \u001b[0;34m\u001b[0m\u001b[0m\n\u001b[1;32m    449\u001b[0m     \u001b[0;32mdef\u001b[0m \u001b[0mpdf\u001b[0m\u001b[0;34m(\u001b[0m\u001b[0mself\u001b[0m\u001b[0;34m,\u001b[0m \u001b[0mx\u001b[0m\u001b[0;34m)\u001b[0m\u001b[0;34m:\u001b[0m   \u001b[0;31m# raises AttributeError in frozen discrete distribution\u001b[0m\u001b[0;34m\u001b[0m\u001b[0m\n\u001b[0;32m--> 450\u001b[0;31m         \u001b[0;32mreturn\u001b[0m \u001b[0mself\u001b[0m\u001b[0;34m.\u001b[0m\u001b[0mdist\u001b[0m\u001b[0;34m.\u001b[0m\u001b[0mpdf\u001b[0m\u001b[0;34m(\u001b[0m\u001b[0mx\u001b[0m\u001b[0;34m,\u001b[0m \u001b[0;34m*\u001b[0m\u001b[0mself\u001b[0m\u001b[0;34m.\u001b[0m\u001b[0margs\u001b[0m\u001b[0;34m,\u001b[0m \u001b[0;34m**\u001b[0m\u001b[0mself\u001b[0m\u001b[0;34m.\u001b[0m\u001b[0mkwds\u001b[0m\u001b[0;34m)\u001b[0m\u001b[0;34m\u001b[0m\u001b[0m\n\u001b[0m\u001b[1;32m    451\u001b[0m \u001b[0;34m\u001b[0m\u001b[0m\n\u001b[1;32m    452\u001b[0m     \u001b[0;32mdef\u001b[0m \u001b[0mlogpdf\u001b[0m\u001b[0;34m(\u001b[0m\u001b[0mself\u001b[0m\u001b[0;34m,\u001b[0m \u001b[0mx\u001b[0m\u001b[0;34m)\u001b[0m\u001b[0;34m:\u001b[0m\u001b[0;34m\u001b[0m\u001b[0m\n",
      "\u001b[0;32m/usr/local/lib/python2.7/site-packages/scipy/stats/_distn_infrastructure.pyc\u001b[0m in \u001b[0;36mpdf\u001b[0;34m(self, x, *args, **kwds)\u001b[0m\n\u001b[1;32m   1651\u001b[0m         \u001b[0mdtyp\u001b[0m \u001b[0;34m=\u001b[0m \u001b[0mnp\u001b[0m\u001b[0;34m.\u001b[0m\u001b[0mfind_common_type\u001b[0m\u001b[0;34m(\u001b[0m\u001b[0;34m[\u001b[0m\u001b[0mx\u001b[0m\u001b[0;34m.\u001b[0m\u001b[0mdtype\u001b[0m\u001b[0;34m,\u001b[0m \u001b[0mnp\u001b[0m\u001b[0;34m.\u001b[0m\u001b[0mfloat64\u001b[0m\u001b[0;34m]\u001b[0m\u001b[0;34m,\u001b[0m \u001b[0;34m[\u001b[0m\u001b[0;34m]\u001b[0m\u001b[0;34m)\u001b[0m\u001b[0;34m\u001b[0m\u001b[0m\n\u001b[1;32m   1652\u001b[0m         \u001b[0mx\u001b[0m \u001b[0;34m=\u001b[0m \u001b[0mnp\u001b[0m\u001b[0;34m.\u001b[0m\u001b[0masarray\u001b[0m\u001b[0;34m(\u001b[0m\u001b[0;34m(\u001b[0m\u001b[0mx\u001b[0m \u001b[0;34m-\u001b[0m \u001b[0mloc\u001b[0m\u001b[0;34m)\u001b[0m\u001b[0;34m/\u001b[0m\u001b[0mscale\u001b[0m\u001b[0;34m,\u001b[0m \u001b[0mdtype\u001b[0m\u001b[0;34m=\u001b[0m\u001b[0mdtyp\u001b[0m\u001b[0;34m)\u001b[0m\u001b[0;34m\u001b[0m\u001b[0m\n\u001b[0;32m-> 1653\u001b[0;31m         \u001b[0mcond0\u001b[0m \u001b[0;34m=\u001b[0m \u001b[0mself\u001b[0m\u001b[0;34m.\u001b[0m\u001b[0m_argcheck\u001b[0m\u001b[0;34m(\u001b[0m\u001b[0;34m*\u001b[0m\u001b[0margs\u001b[0m\u001b[0;34m)\u001b[0m \u001b[0;34m&\u001b[0m \u001b[0;34m(\u001b[0m\u001b[0mscale\u001b[0m \u001b[0;34m>\u001b[0m \u001b[0;36m0\u001b[0m\u001b[0;34m)\u001b[0m\u001b[0;34m\u001b[0m\u001b[0m\n\u001b[0m\u001b[1;32m   1654\u001b[0m         \u001b[0mcond1\u001b[0m \u001b[0;34m=\u001b[0m \u001b[0mself\u001b[0m\u001b[0;34m.\u001b[0m\u001b[0m_support_mask\u001b[0m\u001b[0;34m(\u001b[0m\u001b[0mx\u001b[0m\u001b[0;34m)\u001b[0m \u001b[0;34m&\u001b[0m \u001b[0;34m(\u001b[0m\u001b[0mscale\u001b[0m \u001b[0;34m>\u001b[0m \u001b[0;36m0\u001b[0m\u001b[0;34m)\u001b[0m\u001b[0;34m\u001b[0m\u001b[0m\n\u001b[1;32m   1655\u001b[0m         \u001b[0mcond\u001b[0m \u001b[0;34m=\u001b[0m \u001b[0mcond0\u001b[0m \u001b[0;34m&\u001b[0m \u001b[0mcond1\u001b[0m\u001b[0;34m\u001b[0m\u001b[0m\n",
      "\u001b[0;31mKeyboardInterrupt\u001b[0m: "
     ]
    }
   ],
   "source": [
    "all_mews = {}\n",
    "all_sd = {}\n",
    "debugger = []\n",
    "for iter_num in range(100):\n",
    "    \n",
    "    print mews\n",
    "    \n",
    "    # Posterior prob for each k and Xi\n",
    "    posterior_prob_k_Xi = []\n",
    "\n",
    "    # E-Step\n",
    "    for i in range(k): \n",
    "        ratio_k_i = []\n",
    "        for Xi in input_data:\n",
    "            numer = mix_weights[i] * scipy.stats.norm(loc=mews[i], scale=sd[i]).pdf(Xi) \n",
    "            denom = 0.0\n",
    "            for j in range(k):\n",
    "                denom += mix_weights[j] * scipy.stats.norm(loc=mews[j], scale=sd[j]).pdf(Xi) \n",
    "            if denom == 0.0:\n",
    "                ratio = 0.0\n",
    "            else:\n",
    "                ratio = numer / float(denom)\n",
    "            ratio_k_i.append(ratio)\n",
    "        posterior_prob_k_Xi.append(ratio_k_i)\n",
    "    \n",
    "    posterior_prob_k_Xi = np.array(posterior_prob_k_Xi)\n",
    "\n",
    "    # M-step\n",
    "    # New parameters\n",
    "    for i in range(k):\n",
    "        if i not in all_mews:\n",
    "            all_mews[i] = []\n",
    "        else:\n",
    "            all_mews[i].append(mews[i])\n",
    "            \n",
    "        if i not in all_sd:\n",
    "            all_sd[i] = []\n",
    "        else:\n",
    "            all_sd[i].append(sd[i])\n",
    "\n",
    "        if float(sum(posterior_prob_k_Xi[i])) != 0.0:\n",
    "            sd[i] = math.sqrt(np.matmul(np.square(input_data - mews[i]).reshape((1,input_data.shape[0])), posterior_prob_k_Xi[i].reshape((input_data.shape[0],1)))[0][0] / float(sum(posterior_prob_k_Xi[i])))\n",
    "\n",
    "            mews[i] = np.matmul(input_data.reshape((1,input_data.shape[0])), posterior_prob_k_Xi[i].reshape((input_data.shape[0],1)))[0][0] / float(sum(posterior_prob_k_Xi[i]))\n",
    "            \n",
    "            mix_weights[i] = sum(posterior_prob_k_Xi[i]) / float(input_data.shape[0])\n",
    "\n",
    "        else:\n",
    "            print 'init parameters again because of non-convergence of EM step'\n",
    "            sd[i] = sd_constant*np.random.random_sample()\n",
    "            mews[i] = range_constant*np.random.random_sample()\n",
    "            mix_weights[i] = 1/float(k)\n",
    "\n",
    "            \n",
    "        \n"
   ]
  },
  {
   "cell_type": "code",
   "execution_count": null,
   "metadata": {},
   "outputs": [],
   "source": [
    "# Learning mean with each iteration\n",
    "for mean in all_mews:\n",
    "    plt.plot(all_mews[mean])"
   ]
  },
  {
   "cell_type": "code",
   "execution_count": null,
   "metadata": {},
   "outputs": [],
   "source": [
    "# Learning SD with each iteration\n",
    "for sds in all_sd:\n",
    "    plt.plot(all_sd[sds])"
   ]
  },
  {
   "cell_type": "code",
   "execution_count": null,
   "metadata": {},
   "outputs": [],
   "source": [
    "for i in range(k):\n",
    "    print 'Original Mean, SD: (' + str(input_gaussians[i]['mean']) + ', ' + str(input_gaussians[i]['sd']) + ')'\n",
    "\n",
    "print ''\n",
    "\n",
    "for i in range(k):\n",
    "    print 'Calculated Mean, SD: (' + str(mews[i]) + ', ' + str(sd[i]) + ')'"
   ]
  },
  {
   "cell_type": "code",
   "execution_count": null,
   "metadata": {},
   "outputs": [],
   "source": []
  }
 ],
 "metadata": {
  "kernelspec": {
   "display_name": "Python 2",
   "language": "python",
   "name": "python2"
  },
  "language_info": {
   "codemirror_mode": {
    "name": "ipython",
    "version": 2
   },
   "file_extension": ".py",
   "mimetype": "text/x-python",
   "name": "python",
   "nbconvert_exporter": "python",
   "pygments_lexer": "ipython2",
   "version": "2.7.15"
  }
 },
 "nbformat": 4,
 "nbformat_minor": 2
}
