{
 "cells": [
  {
   "cell_type": "markdown",
   "metadata": {},
   "source": [
    "## Introduction"
   ]
  },
  {
   "cell_type": "code",
   "execution_count": 96,
   "metadata": {},
   "outputs": [],
   "source": [
    "# This is my attempt to write the EM algorithm from scratch for Gaussian Mixtures model.\n",
    "# Again, EM algorithm is an iterative recipie required to find the maximum likelihood estimate in a problem where the standard MLE steps are intractable in closed form due to the induction of some latent (hidden) variables. In the case of Gaussian Mixtures models, for the case of >= 2 gaussians, we do not know which gaussian each data point belongs to, which are the inherent latent variables in this problem setting\n",
    "\n",
    "# Agenda\n",
    "# 1) Create data points using pre-declared gaussians (The aim will be to learn these gaussians from the data)\n",
    "# 2) Initialize the means, standard-deviations and mixture proportions\n",
    "#     - Create smarter estimates using k-means [To Do]\n",
    "# 3) Iterate the E step and the M step to increase the log-likelihood with each step\n",
    "# 4) Animate the process [To Do]\n",
    "\n",
    "# Great tutorial on EM Algorithm\n",
    "# https://stephens999.github.io/fiveMinuteStats/intro_to_mixture_models.html\n",
    "# https://stephens999.github.io/fiveMinuteStats/intro_to_em.html"
   ]
  },
  {
   "cell_type": "code",
   "execution_count": 14,
   "metadata": {},
   "outputs": [],
   "source": [
    "import numpy as np\n",
    "import scipy.stats\n",
    "import math\n",
    "from tqdm import tqdm\n",
    "import pandas as pd\n",
    "import matplotlib.pyplot as plt\n"
   ]
  },
  {
   "cell_type": "code",
   "execution_count": 101,
   "metadata": {},
   "outputs": [],
   "source": [
    "# num of Gaussians\n",
    "k = 3"
   ]
  },
  {
   "cell_type": "markdown",
   "metadata": {},
   "source": [
    "## Create Input data from two gaussians which we will try to learn later"
   ]
  },
  {
   "cell_type": "code",
   "execution_count": 131,
   "metadata": {},
   "outputs": [
    {
     "name": "stdout",
     "output_type": "stream",
     "text": [
      "mean:2436.11304041\n",
      "sd:13.0559670016\n",
      "num_elms:15381\n",
      "mean:4129.65988628\n",
      "sd:13.1686202632\n",
      "num_elms:36979\n",
      "mean:5522.97028984\n",
      "sd:11.3833447995\n",
      "num_elms:85226\n"
     ]
    },
    {
     "data": {
      "image/png": "[encoded data removed]",
      "text/plain": [
       "<Figure size 432x288 with 1 Axes>"
      ]
     },
     "metadata": {
      "needs_background": "light"
     },
     "output_type": "display_data"
    }
   ],
   "source": [
    "input_data = []\n",
    "\n",
    "input_gaussians = []\n",
    "\n",
    "for i in range(k):\n",
    "    temp_gaussian = {}\n",
    "    temp_gaussian['mean'] = 10000*np.random.random_sample()\n",
    "    temp_gaussian['sd'] = 5+10*np.random.random_sample()\n",
    "    temp_gaussian['dist'] = []\n",
    "    temp_gaussian['num_elms'] = int(100000*np.random.random_sample())\n",
    "    for count in range(temp_gaussian['num_elms']):\n",
    "        temp_gaussian['dist'].append(np.random.normal(loc=temp_gaussian['mean'], scale=temp_gaussian['sd'], size=None))\n",
    "    temp_gaussian['dist'] = np.array(temp_gaussian['dist'])\n",
    "    input_gaussians.append(temp_gaussian)\n",
    "    input_data += list(temp_gaussian['dist'])\n",
    "    \n",
    "\n",
    "import random\n",
    "for gaussian in input_gaussians:\n",
    "    print 'mean:' + str(gaussian['mean'])\n",
    "    print 'sd:' + str(gaussian['sd'])\n",
    "    print 'num_elms:' + str(gaussian['num_elms'])\n",
    "    plt.hist(gaussian['dist'], color=(\"#\"+''.join([random.choice('0123456789ABCDEF') for j in range(6)])))\n",
    "# plt.hist(input_gaussians[1], color='green')"
   ]
  },
  {
   "cell_type": "code",
   "execution_count": 132,
   "metadata": {},
   "outputs": [
    {
     "data": {
      "text/plain": [
       "(137586,)"
      ]
     },
     "execution_count": 132,
     "metadata": {},
     "output_type": "execute_result"
    }
   ],
   "source": [
    "input_data = np.array(pd.Series(input_data).sample(len(input_data)))\n",
    "input_data.shape"
   ]
  },
  {
   "cell_type": "code",
   "execution_count": 133,
   "metadata": {},
   "outputs": [],
   "source": [
    "# The EM Algorithm"
   ]
  },
  {
   "cell_type": "code",
   "execution_count": 134,
   "metadata": {},
   "outputs": [],
   "source": [
    "range_constant = input_data.mean()\n",
    "sd_constant = input_data.std()"
   ]
  },
  {
   "cell_type": "markdown",
   "metadata": {},
   "source": [
    "## Initialize the means and sds"
   ]
  },
  {
   "cell_type": "code",
   "execution_count": 135,
   "metadata": {},
   "outputs": [],
   "source": [
    "mews = []\n",
    "sd = []\n",
    "for i in range(k):\n",
    "    mews.append(range_constant*np.random.random_sample())\n",
    "    sd.append(sd_constant*np.random.random_sample())\n",
    "mews = np.array(mews)\n",
    "sd = np.array(sd)\n",
    "mix_weights = k*[1/float(k)]"
   ]
  },
  {
   "cell_type": "markdown",
   "metadata": {},
   "source": [
    "## Run the E and M step iteratively for n runs"
   ]
  },
  {
   "cell_type": "code",
   "execution_count": null,
   "metadata": {
    "scrolled": true
   },
   "outputs": [
    {
     "name": "stdout",
     "output_type": "stream",
     "text": [
      "[ 863.54155633 4222.84779381 1284.78202893]\n",
      "[5057.97798637 4129.49495921 2434.56244023]\n",
      "[5037.30234823 4129.49102423 2829.62250668]\n",
      "[5046.07393161 4129.47668506 2497.52750059]\n",
      "[5090.93630706 4129.47531212 2436.11977731]\n",
      "[5436.381212   4129.47351183 2436.15781525]\n",
      "[5515.28164348 4129.45994936 2436.20331881]\n",
      "[5522.89383384 4129.49148842 2436.20333421]\n",
      "[5522.89383384 4129.49148842 2436.20333421]\n",
      "[5522.89383384 4129.49148842 2436.20333421]\n",
      "[5522.89383384 4129.49148842 2436.20333421]\n",
      "[5522.89383384 4129.49148842 2436.20333421]\n",
      "[5522.89383384 4129.49148842 2436.20333421]\n",
      "[5522.89383384 4129.49148842 2436.20333421]\n",
      "[5522.89383384 4129.49148842 2436.20333421]\n",
      "[5522.89383384 4129.49148842 2436.20333421]\n",
      "[5522.89383384 4129.49148842 2436.20333421]\n",
      "[5522.89383384 4129.49148842 2436.20333421]\n",
      "[5522.89383384 4129.49148842 2436.20333421]\n",
      "[5522.89383384 4129.49148842 2436.20333421]\n",
      "[5522.89383384 4129.49148842 2436.20333421]\n",
      "[5522.89383384 4129.49148842 2436.20333421]\n",
      "[5522.89383384 4129.49148842 2436.20333421]\n",
      "[5522.89383384 4129.49148842 2436.20333421]\n",
      "[5522.89383384 4129.49148842 2436.20333421]\n",
      "[5522.89383384 4129.49148842 2436.20333421]\n",
      "[5522.89383384 4129.49148842 2436.20333421]\n",
      "[5522.89383384 4129.49148842 2436.20333421]\n",
      "[5522.89383384 4129.49148842 2436.20333421]\n",
      "[5522.89383384 4129.49148842 2436.20333421]\n",
      "[5522.89383384 4129.49148842 2436.20333421]\n",
      "[5522.89383384 4129.49148842 2436.20333421]\n",
      "[5522.89383384 4129.49148842 2436.20333421]\n",
      "[5522.89383384 4129.49148842 2436.20333421]\n",
      "[5522.89383384 4129.49148842 2436.20333421]\n",
      "[5522.89383384 4129.49148842 2436.20333421]\n",
      "[5522.89383384 4129.49148842 2436.20333421]\n",
      "[5522.89383384 4129.49148842 2436.20333421]\n",
      "[5522.89383384 4129.49148842 2436.20333421]\n",
      "[5522.89383384 4129.49148842 2436.20333421]\n"
     ]
    }
   ],
   "source": [
    "all_mews = {}\n",
    "all_sd = {}\n",
    "debugger = []\n",
    "for iter_num in range(100):\n",
    "    \n",
    "    print mews\n",
    "    \n",
    "    # Posterior prob for each k and Xi\n",
    "    posterior_prob_k_Xi = []\n",
    "\n",
    "    # E-Step\n",
    "    for i in range(k): \n",
    "        ratio_k_i = []\n",
    "        for Xi in input_data:\n",
    "            numer = mix_weights[i] * scipy.stats.norm(loc=mews[i], scale=sd[i]).pdf(Xi) \n",
    "            denom = 0.0\n",
    "            for j in range(k):\n",
    "                denom += mix_weights[j] * scipy.stats.norm(loc=mews[j], scale=sd[j]).pdf(Xi) \n",
    "            if denom == 0.0:\n",
    "                ratio = 0.0\n",
    "            else:\n",
    "                ratio = numer / float(denom)\n",
    "            ratio_k_i.append(ratio)\n",
    "        posterior_prob_k_Xi.append(ratio_k_i)\n",
    "    \n",
    "    posterior_prob_k_Xi = np.array(posterior_prob_k_Xi)\n",
    "\n",
    "    # M-step\n",
    "    # New parameters\n",
    "    for i in range(k):\n",
    "        if i not in all_mews:\n",
    "            all_mews[i] = []\n",
    "        else:\n",
    "            all_mews[i].append(mews[i])\n",
    "            \n",
    "        if i not in all_sd:\n",
    "            all_sd[i] = []\n",
    "        else:\n",
    "            all_sd[i].append(sd[i])\n",
    "\n",
    "        if float(sum(posterior_prob_k_Xi[i])) != 0.0:\n",
    "            sd[i] = math.sqrt(np.matmul(np.square(input_data - mews[i]).reshape((1,input_data.shape[0])), posterior_prob_k_Xi[i].reshape((input_data.shape[0],1)))[0][0] / float(sum(posterior_prob_k_Xi[i])))\n",
    "\n",
    "            mews[i] = np.matmul(input_data.reshape((1,input_data.shape[0])), posterior_prob_k_Xi[i].reshape((input_data.shape[0],1)))[0][0] / float(sum(posterior_prob_k_Xi[i]))\n",
    "            \n",
    "            mix_weights[i] = sum(posterior_prob_k_Xi[i]) / float(input_data.shape[0])\n",
    "\n",
    "        else:\n",
    "            print 'init parameters again because of non-convergence of EM step'\n",
    "            sd[i] = sd_constant*np.random.random_sample()\n",
    "            mews[i] = range_constant*np.random.random_sample()\n",
    "            mix_weights[i] = 1/float(k)\n",
    "\n",
    "            \n",
    "        \n"
   ]
  },
  {
   "cell_type": "code",
   "execution_count": null,
   "metadata": {},
   "outputs": [],
   "source": [
    "# Learning mean with each iteration\n",
    "for mean in all_mews:\n",
    "    plt.plot(all_mews[mean])"
   ]
  },
  {
   "cell_type": "code",
   "execution_count": null,
   "metadata": {},
   "outputs": [],
   "source": [
    "# Learning SD with each iteration\n",
    "for sds in all_sd:\n",
    "    plt.plot(all_sd[sds])"
   ]
  },
  {
   "cell_type": "code",
   "execution_count": null,
   "metadata": {},
   "outputs": [],
   "source": [
    "for i in range(k):\n",
    "    print 'Original Mean, SD: (' + str(input_gaussians[i]['mean']) + ', ' + str(input_gaussians[i]['sd']) + ')'\n",
    "\n",
    "print ''\n",
    "\n",
    "for i in range(k):\n",
    "    print 'Calculated Mean, SD: (' + str(mews[i]) + ', ' + str(sd[i]) + ')'"
   ]
  },
  {
   "cell_type": "code",
   "execution_count": null,
   "metadata": {},
   "outputs": [],
   "source": []
  }
 ],
 "metadata": {
  "kernelspec": {
   "display_name": "Python 2",
   "language": "python",
   "name": "python2"
  },
  "language_info": {
   "codemirror_mode": {
    "name": "ipython",
    "version": 2
   },
   "file_extension": ".py",
   "mimetype": "text/x-python",
   "name": "python",
   "nbconvert_exporter": "python",
   "pygments_lexer": "ipython2",
   "version": "2.7.15"
  }
 },
 "nbformat": 4,
 "nbformat_minor": 2
}
