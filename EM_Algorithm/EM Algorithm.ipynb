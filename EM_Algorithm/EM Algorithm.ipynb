{
 "cells": [
  {
   "cell_type": "code",
   "execution_count": 14,
   "metadata": {},
   "outputs": [],
   "source": [
    "import numpy as np\n",
    "import scipy.stats\n",
    "import math\n",
    "from tqdm import tqdm\n",
    "import pandas as pd\n",
    "import matplotlib.pyplot as plt\n"
   ]
  },
  {
   "cell_type": "code",
   "execution_count": null,
   "metadata": {},
   "outputs": [],
   "source": [
    "# Great tutorial on EM Algorithm\n",
    "# https://stephens999.github.io/fiveMinuteStats/intro_to_mixture_models.html\n",
    "# https://stephens999.github.io/fiveMinuteStats/intro_to_em.html"
   ]
  },
  {
   "cell_type": "code",
   "execution_count": 55,
   "metadata": {},
   "outputs": [],
   "source": [
    "# num of Gaussians\n",
    "k = 2"
   ]
  },
  {
   "cell_type": "markdown",
   "metadata": {},
   "source": [
    "## Create Input data from two gaussians which we will try to learn later"
   ]
  },
  {
   "cell_type": "code",
   "execution_count": 76,
   "metadata": {},
   "outputs": [
    {
     "name": "stderr",
     "output_type": "stream",
     "text": [
      "\n",
      "\n",
      "\n",
      "\n",
      "  0%|          | 0/1664 [00:00<?, ?it/s]\u001b[A\u001b[A\u001b[A\u001b[A\n",
      "\n",
      "\n",
      "\n",
      "100%|██████████| 1664/1664 [00:00<00:00, 178385.22it/s]\u001b[A\u001b[A\u001b[A\u001b[A\n",
      "\n",
      "\n",
      "\n",
      "  0%|          | 0/4570 [00:00<?, ?it/s]\u001b[A\u001b[A\u001b[A\u001b[A\n",
      "\n",
      "\n",
      "\n",
      "100%|██████████| 4570/4570 [00:00<00:00, 173876.48it/s]\u001b[A\u001b[A\u001b[A\u001b[A"
     ]
    },
    {
     "name": "stdout",
     "output_type": "stream",
     "text": [
      "mean:65.7008059088\n",
      "sd:13.2529374578\n",
      "num_elms:1664\n",
      "mean:30.4483519553\n",
      "sd:5.48758847429\n",
      "num_elms:4570\n"
     ]
    },
    {
     "data": {
      "image/png": "[encoded data removed]",
      "text/plain": [
       "<Figure size 432x288 with 1 Axes>"
      ]
     },
     "metadata": {
      "needs_background": "light"
     },
     "output_type": "display_data"
    }
   ],
   "source": [
    "input_data = []\n",
    "\n",
    "input_gaussians = []\n",
    "\n",
    "for i in range(k):\n",
    "    temp_gaussian = {}\n",
    "    temp_gaussian['mean'] = 100*np.random.random_sample()\n",
    "    temp_gaussian['sd'] = 5+10*np.random.random_sample()\n",
    "    temp_gaussian['dist'] = []\n",
    "    temp_gaussian['num_elms'] = int(5000*np.random.random_sample())\n",
    "    for count in range(temp_gaussian['num_elms']):\n",
    "        temp_gaussian['dist'].append(np.random.normal(loc=temp_gaussian['mean'], scale=temp_gaussian['sd'], size=None))\n",
    "    temp_gaussian['dist'] = np.array(temp_gaussian['dist'])\n",
    "    input_gaussians.append(temp_gaussian)\n",
    "    input_data += list(temp_gaussian['dist'])\n",
    "    \n",
    "\n",
    "import random\n",
    "for gaussian in input_gaussians:\n",
    "    print 'mean:' + str(gaussian['mean'])\n",
    "    print 'sd:' + str(gaussian['sd'])\n",
    "    print 'num_elms:' + str(gaussian['num_elms'])\n",
    "    plt.hist(gaussian['dist'], color=(\"#\"+''.join([random.choice('0123456789ABCDEF') for j in range(6)])))\n",
    "# plt.hist(input_gaussians[1], color='green')"
   ]
  },
  {
   "cell_type": "code",
   "execution_count": 82,
   "metadata": {},
   "outputs": [
    {
     "data": {
      "text/plain": [
       "(6234,)"
      ]
     },
     "execution_count": 82,
     "metadata": {},
     "output_type": "execute_result"
    }
   ],
   "source": [
    "input_data = np.array(pd.Series(input_data).sample(len(input_data)))\n",
    "input_data.shape"
   ]
  },
  {
   "cell_type": "code",
   "execution_count": 83,
   "metadata": {},
   "outputs": [],
   "source": [
    "# The EM Algorithm"
   ]
  },
  {
   "cell_type": "code",
   "execution_count": 84,
   "metadata": {},
   "outputs": [],
   "source": [
    "range_constant = 20"
   ]
  },
  {
   "cell_type": "markdown",
   "metadata": {},
   "source": [
    "## Initialize the means and sds"
   ]
  },
  {
   "cell_type": "code",
   "execution_count": 85,
   "metadata": {},
   "outputs": [],
   "source": [
    "mews = []\n",
    "sd = []\n",
    "for i in range(k):\n",
    "    mews.append(range_constant*np.random.random_sample())\n",
    "    sd.append(np.random.random_sample())\n",
    "mews = np.array(mews)\n",
    "sd = np.array(sd)\n",
    "mix_weights = k*[0.5]"
   ]
  },
  {
   "cell_type": "markdown",
   "metadata": {},
   "source": [
    "## Run the E and M step iteratively for n runs"
   ]
  },
  {
   "cell_type": "code",
   "execution_count": 87,
   "metadata": {
    "scrolled": true
   },
   "outputs": [
    {
     "name": "stdout",
     "output_type": "stream",
     "text": [
      "[ 9.91267905 10.79048893]\n",
      "[30.36201046 13.15333593]\n",
      "[40.01545595 16.05882813]\n",
      "[40.0140666  20.05167895]\n",
      "[40.01394185 24.15542514]\n",
      "[40.01407849 26.79542567]\n",
      "[40.01453445 27.95260941]\n",
      "[40.01570057 28.47015208]\n",
      "[40.01861209 28.74541109]\n",
      "[40.0259615  28.91204206]\n",
      "[40.04472438 29.02200691]\n",
      "[40.09274959 29.09952726]\n",
      "[40.21353161 29.15849298]\n",
      "[40.49863227 29.20980767]\n",
      "[41.07769441 29.26522074]\n",
      "[41.99704708 29.33721058]\n",
      "[43.14303965 29.43344121]\n",
      "[44.42478339 29.55126194]\n",
      "[45.86304345 29.68029062]\n",
      "[47.49577415 29.80729203]\n",
      "[49.30845055 29.91941763]\n",
      "[51.220359   30.00896601]\n",
      "[53.11118863 30.07530184]\n",
      "[54.87305422 30.12277052]\n",
      "[56.44808835 30.15738399]\n",
      "[57.82846809 30.18460377]\n",
      "[59.03517969 30.20853007]\n",
      "[60.09790476 30.23192276]\n",
      "[61.04338206 30.25653946]\n",
      "[61.89043237 30.28343253]\n",
      "[62.64889454 30.31303166]\n",
      "[63.32115909 30.34504597]\n",
      "[63.90559796 30.37840438]\n",
      "[64.4006501  30.41146529]\n",
      "[64.80793101 30.44247943]\n",
      "[65.13337706 30.47005589]\n",
      "[65.38656224 30.49341589]\n",
      "[65.57904492 30.51239803]\n",
      "[65.72264799 30.52730317]\n",
      "[65.82821049 30.53869184]\n",
      "[65.9049397  30.54721159]\n",
      "[65.96024502 30.55348389]\n",
      "[65.99986398 30.55804695]\n",
      "[66.02811968 30.56133766]\n",
      "[66.04820693 30.56369582]\n",
      "[66.06245456 30.56537799]\n",
      "[66.07254383 30.56657404]\n",
      "[66.07968016 30.56742247]\n",
      "[66.08472371 30.56802331]\n",
      "[66.08828614 30.56844832]\n",
      "[66.09080137 30.56874871]\n",
      "[66.09257673 30.56896089]\n",
      "[66.09382959 30.56911069]\n",
      "[66.09471361 30.56921644]\n",
      "[66.09533731 30.56929106]\n",
      "[66.09577731 30.56934371]\n",
      "[66.0960877  30.56938086]\n",
      "[66.09630666 30.56940707]\n",
      "[66.09646111 30.56942556]\n",
      "[66.09657006 30.5694386 ]\n",
      "[66.0966469 30.5694478]\n",
      "[66.09670111 30.56945429]\n",
      "[66.09673934 30.56945886]\n",
      "[66.09676631 30.56946209]\n",
      "[66.09678534 30.56946437]\n",
      "[66.09679876 30.56946598]\n",
      "[66.09680822 30.56946711]\n",
      "[66.0968149  30.56946791]\n",
      "[66.0968196  30.56946847]\n",
      "[66.09682293 30.56946887]\n",
      "[66.09682527 30.56946915]\n",
      "[66.09682692 30.56946935]\n",
      "[66.09682809 30.56946949]\n",
      "[66.09682891 30.56946959]\n",
      "[66.09682949 30.56946966]\n",
      "[66.0968299  30.56946971]\n",
      "[66.09683019 30.56946974]\n",
      "[66.09683039 30.56946976]\n",
      "[66.09683053 30.56946978]\n",
      "[66.09683063 30.56946979]\n",
      "[66.09683071 30.5694698 ]\n",
      "[66.09683076 30.56946981]\n",
      "[66.09683079 30.56946981]\n",
      "[66.09683082 30.56946982]\n",
      "[66.09683083 30.56946982]\n",
      "[66.09683085 30.56946982]\n",
      "[66.09683086 30.56946982]\n",
      "[66.09683086 30.56946982]\n",
      "[66.09683087 30.56946982]\n",
      "[66.09683087 30.56946982]\n",
      "[66.09683087 30.56946982]\n",
      "[66.09683087 30.56946982]\n",
      "[66.09683087 30.56946982]\n",
      "[66.09683088 30.56946982]\n",
      "[66.09683088 30.56946982]\n",
      "[66.09683088 30.56946982]\n",
      "[66.09683088 30.56946982]\n",
      "[66.09683088 30.56946982]\n",
      "[66.09683088 30.56946982]\n",
      "[66.09683088 30.56946982]\n"
     ]
    }
   ],
   "source": [
    "all_mews = {}\n",
    "all_sd = {}\n",
    "debugger = []\n",
    "for iter_num in range(100):\n",
    "    \n",
    "    print mews\n",
    "    \n",
    "    # Posterior prob for each k and Xi\n",
    "    posterior_prob_k_Xi = []\n",
    "\n",
    "    # E-Step\n",
    "    for i in range(k): \n",
    "        ratio_k_i = []\n",
    "        for Xi in input_data:\n",
    "            numer = mix_weights[i] * scipy.stats.norm(loc=mews[i], scale=sd[i]).pdf(Xi) \n",
    "            denom = 0.0\n",
    "            for j in range(k):\n",
    "                denom += mix_weights[j] * scipy.stats.norm(loc=mews[j], scale=sd[j]).pdf(Xi) \n",
    "            if denom == 0.0:\n",
    "                ratio = 0.0\n",
    "            else:\n",
    "                ratio = numer / float(denom)\n",
    "            ratio_k_i.append(ratio)\n",
    "        posterior_prob_k_Xi.append(ratio_k_i)\n",
    "    \n",
    "    posterior_prob_k_Xi = np.array(posterior_prob_k_Xi)\n",
    "\n",
    "    # M-step\n",
    "    # New parameters\n",
    "    for i in range(k):\n",
    "        if i not in all_mews:\n",
    "            all_mews[i] = []\n",
    "        else:\n",
    "            all_mews[i].append(mews[i])\n",
    "            \n",
    "        if i not in all_sd:\n",
    "            all_sd[i] = []\n",
    "        else:\n",
    "            all_sd[i].append(sd[i])\n",
    "\n",
    "        if float(sum(posterior_prob_k_Xi[i])) != 0.0:\n",
    "            sd[i] = math.sqrt(np.matmul(np.square(input_data - mews[i]).reshape((1,input_data.shape[0])), posterior_prob_k_Xi[i].reshape((input_data.shape[0],1)))[0][0] / float(sum(posterior_prob_k_Xi[i])))\n",
    "\n",
    "            mews[i] = np.matmul(input_data.reshape((1,input_data.shape[0])), posterior_prob_k_Xi[i].reshape((input_data.shape[0],1)))[0][0] / float(sum(posterior_prob_k_Xi[i]))\n",
    "\n",
    "        else:\n",
    "            sd[i] = 0.0\n",
    "            mews[i] = 0.0\n",
    "\n",
    "            \n",
    "        mix_weights[i] = sum(posterior_prob_k_Xi[i]) / float(input_data.shape[0])\n"
   ]
  },
  {
   "cell_type": "code",
   "execution_count": 88,
   "metadata": {},
   "outputs": [
    {
     "data": {
      "image/png": "[encoded data removed]",
      "text/plain": [
       "<Figure size 432x288 with 1 Axes>"
      ]
     },
     "metadata": {
      "needs_background": "light"
     },
     "output_type": "display_data"
    }
   ],
   "source": [
    "# Learning mean with each iteration\n",
    "for mean in all_mews:\n",
    "    plt.plot(all_mews[mean])"
   ]
  },
  {
   "cell_type": "code",
   "execution_count": 89,
   "metadata": {},
   "outputs": [
    {
     "data": {
      "image/png": "[encoded data removed]",
      "text/plain": [
       "<Figure size 432x288 with 1 Axes>"
      ]
     },
     "metadata": {
      "needs_background": "light"
     },
     "output_type": "display_data"
    }
   ],
   "source": [
    "# Learning SD with each iteration\n",
    "for sds in all_sd:\n",
    "    plt.plot(all_sd[sds])"
   ]
  },
  {
   "cell_type": "code",
   "execution_count": 95,
   "metadata": {},
   "outputs": [
    {
     "name": "stdout",
     "output_type": "stream",
     "text": [
      "Original Mean, SD: (65.7008059088, 13.2529374578)\n",
      "Original Mean, SD: (30.4483519553, 5.48758847429)\n",
      "\n",
      "Calculated Mean, SD: (66.09683087710951, 12.925244109467048)\n",
      "Calculated Mean, SD: (30.56946982286418, 5.520051197144369)\n"
     ]
    }
   ],
   "source": [
    "for i in range(k):\n",
    "    print 'Original Mean, SD: (' + str(input_gaussians[i]['mean']) + ', ' + str(input_gaussians[i]['sd']) + ')'\n",
    "\n",
    "print ''\n",
    "\n",
    "for i in range(k):\n",
    "    print 'Calculated Mean, SD: (' + str(mews[i]) + ', ' + str(sd[i]) + ')'"
   ]
  },
  {
   "cell_type": "code",
   "execution_count": null,
   "metadata": {},
   "outputs": [],
   "source": []
  }
 ],
 "metadata": {
  "kernelspec": {
   "display_name": "Python 2",
   "language": "python",
   "name": "python2"
  },
  "language_info": {
   "codemirror_mode": {
    "name": "ipython",
    "version": 2
   },
   "file_extension": ".py",
   "mimetype": "text/x-python",
   "name": "python",
   "nbconvert_exporter": "python",
   "pygments_lexer": "ipython2",
   "version": "2.7.15"
  }
 },
 "nbformat": 4,
 "nbformat_minor": 2
}
