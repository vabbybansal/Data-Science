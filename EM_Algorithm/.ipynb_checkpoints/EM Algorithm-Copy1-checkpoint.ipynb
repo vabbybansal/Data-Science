{
 "cells": [
  {
   "cell_type": "markdown",
   "metadata": {},
   "source": [
    "## Introduction"
   ]
  },
  {
   "cell_type": "code",
   "execution_count": 96,
   "metadata": {},
   "outputs": [],
   "source": [
    "# This is my attempt to write the EM algorithm from scratch for Gaussian Mixtures model.\n",
    "# Again, EM algorithm is an iterative recipie required to find the maximum likelihood estimate in a problem where the standard MLE steps are intractable in closed form due to the induction of some latent (hidden) variables. In the case of Gaussian Mixtures models, for the case of >= 2 gaussians, we do not know which gaussian each data point belongs to, which are the inherent latent variables in this problem setting\n",
    "\n",
    "# Agenda\n",
    "# 1) Create data points using pre-declared gaussians (The aim will be to learn these gaussians from the data)\n",
    "# 2) Initialize the means, standard-deviations and mixture proportions\n",
    "#     - Create smarter estimates using k-means [To Do]\n",
    "# 3) Iterate the E step and the M step to increase the log-likelihood with each step\n",
    "# 4) Animate the process [To Do]\n",
    "\n",
    "# Great tutorial on EM Algorithm\n",
    "# https://stephens999.github.io/fiveMinuteStats/intro_to_mixture_models.html\n",
    "# https://stephens999.github.io/fiveMinuteStats/intro_to_em.html"
   ]
  },
  {
   "cell_type": "code",
   "execution_count": 14,
   "metadata": {},
   "outputs": [],
   "source": [
    "import numpy as np\n",
    "import scipy.stats\n",
    "import math\n",
    "from tqdm import tqdm\n",
    "import pandas as pd\n",
    "import matplotlib.pyplot as plt\n"
   ]
  },
  {
   "cell_type": "code",
   "execution_count": 101,
   "metadata": {},
   "outputs": [],
   "source": [
    "# num of Gaussians\n",
    "k = 3"
   ]
  },
  {
   "cell_type": "markdown",
   "metadata": {},
   "source": [
    "## Create Input data from two gaussians which we will try to learn later"
   ]
  },
  {
   "cell_type": "code",
   "execution_count": 107,
   "metadata": {},
   "outputs": [
    {
     "name": "stdout",
     "output_type": "stream",
     "text": [
      "mean:436.975419863\n",
      "sd:7.66717426196\n",
      "num_elms:15204\n",
      "mean:528.430531391\n",
      "sd:8.03043388486\n",
      "num_elms:11135\n",
      "mean:155.022648005\n",
      "sd:5.5022766118\n",
      "num_elms:14061\n"
     ]
    },
    {
     "data": {
      "image/png": "[encoded data removed]",
      "text/plain": [
       "<Figure size 432x288 with 1 Axes>"
      ]
     },
     "metadata": {
      "needs_background": "light"
     },
     "output_type": "display_data"
    }
   ],
   "source": [
    "input_data = []\n",
    "\n",
    "input_gaussians = []\n",
    "\n",
    "for i in range(k):\n",
    "    temp_gaussian = {}\n",
    "    temp_gaussian['mean'] = 1000*np.random.random_sample()\n",
    "    temp_gaussian['sd'] = 5+10*np.random.random_sample()\n",
    "    temp_gaussian['dist'] = []\n",
    "    temp_gaussian['num_elms'] = int(30000*np.random.random_sample())\n",
    "    for count in range(temp_gaussian['num_elms']):\n",
    "        temp_gaussian['dist'].append(np.random.normal(loc=temp_gaussian['mean'], scale=temp_gaussian['sd'], size=None))\n",
    "    temp_gaussian['dist'] = np.array(temp_gaussian['dist'])\n",
    "    input_gaussians.append(temp_gaussian)\n",
    "    input_data += list(temp_gaussian['dist'])\n",
    "    \n",
    "\n",
    "import random\n",
    "for gaussian in input_gaussians:\n",
    "    print 'mean:' + str(gaussian['mean'])\n",
    "    print 'sd:' + str(gaussian['sd'])\n",
    "    print 'num_elms:' + str(gaussian['num_elms'])\n",
    "    plt.hist(gaussian['dist'], color=(\"#\"+''.join([random.choice('0123456789ABCDEF') for j in range(6)])))\n",
    "# plt.hist(input_gaussians[1], color='green')"
   ]
  },
  {
   "cell_type": "code",
   "execution_count": 108,
   "metadata": {},
   "outputs": [
    {
     "data": {
      "text/plain": [
       "(40400,)"
      ]
     },
     "execution_count": 108,
     "metadata": {},
     "output_type": "execute_result"
    }
   ],
   "source": [
    "input_data = np.array(pd.Series(input_data).sample(len(input_data)))\n",
    "input_data.shape"
   ]
  },
  {
   "cell_type": "code",
   "execution_count": 109,
   "metadata": {},
   "outputs": [],
   "source": [
    "# The EM Algorithm"
   ]
  },
  {
   "cell_type": "code",
   "execution_count": 120,
   "metadata": {},
   "outputs": [],
   "source": [
    "range_constant = input_data.mean()\n",
    "sd_constant = input_data.std()"
   ]
  },
  {
   "cell_type": "markdown",
   "metadata": {},
   "source": [
    "## Initialize the means and sds"
   ]
  },
  {
   "cell_type": "code",
   "execution_count": 123,
   "metadata": {},
   "outputs": [],
   "source": [
    "mews = []\n",
    "sd = []\n",
    "for i in range(k):\n",
    "    mews.append(range_constant*np.random.random_sample())\n",
    "    sd.append(sd_constant*np.random.random_sample())\n",
    "mews = np.array(mews)\n",
    "sd = np.array(sd)\n",
    "mix_weights = k*[1/float(k)]"
   ]
  },
  {
   "cell_type": "markdown",
   "metadata": {},
   "source": [
    "## Run the E and M step iteratively for n runs"
   ]
  },
  {
   "cell_type": "code",
   "execution_count": null,
   "metadata": {
    "scrolled": true
   },
   "outputs": [
    {
     "name": "stdout",
     "output_type": "stream",
     "text": [
      "[307.91712847 201.66493555 176.29759521]\n",
      "[446.39258335 275.12373418 190.18699641]\n",
      "[434.54570375 314.61329479 165.67103422]\n",
      "[460.51858199 334.79190479 154.96454398]\n",
      "[476.03558322 429.9087055  155.00891834]\n",
      "[475.57989295 464.06521728 155.01179517]\n",
      "[475.55044338 477.0257772  155.01751513]\n",
      "[475.52237797 477.75205806 155.01768851]\n",
      "[475.51719635 477.86415565 155.01768851]\n",
      "[475.51336177 477.94705374 155.01768851]\n",
      "[475.50951403 478.03022049 155.01768851]\n",
      "[475.50557831 478.11527409 155.01768851]\n",
      "[475.50155096 478.2022919  155.01768851]\n",
      "[475.49743242 478.29126259 155.01768851]\n",
      "[475.49322351 478.38216661 155.01768851]\n",
      "[475.48892521 478.47498076 155.01768851]\n",
      "[475.48453865 478.56967843 155.01768851]\n",
      "[475.48006511 478.66622975 155.01768851]\n",
      "[475.47550601 478.76460167 155.01768851]\n",
      "[475.47086292 478.86475808 155.01768851]\n",
      "[475.4661375  478.96665995 155.01768851]\n",
      "[475.46133158 479.0702655  155.01768851]\n",
      "[475.45644707 479.17553039 155.01768851]\n",
      "[475.45148599 479.28240792 155.01768851]\n",
      "[475.44645048 479.39084923 155.01768851]\n",
      "[475.44134274 479.50080354 155.01768851]\n",
      "[475.43616504 479.61221842 155.01768851]\n",
      "[475.43091971 479.72503998 155.01768851]\n",
      "[475.42560916 479.83921321 155.01768851]\n",
      "[475.42023581 479.9546822  155.01768851]\n",
      "[475.4148021  480.07139042 155.01768851]\n"
     ]
    }
   ],
   "source": [
    "all_mews = {}\n",
    "all_sd = {}\n",
    "debugger = []\n",
    "for iter_num in range(100):\n",
    "    \n",
    "    print mews\n",
    "    \n",
    "    # Posterior prob for each k and Xi\n",
    "    posterior_prob_k_Xi = []\n",
    "\n",
    "    # E-Step\n",
    "    for i in range(k): \n",
    "        ratio_k_i = []\n",
    "        for Xi in input_data:\n",
    "            numer = mix_weights[i] * scipy.stats.norm(loc=mews[i], scale=sd[i]).pdf(Xi) \n",
    "            denom = 0.0\n",
    "            for j in range(k):\n",
    "                denom += mix_weights[j] * scipy.stats.norm(loc=mews[j], scale=sd[j]).pdf(Xi) \n",
    "            if denom == 0.0:\n",
    "                ratio = 0.0\n",
    "            else:\n",
    "                ratio = numer / float(denom)\n",
    "            ratio_k_i.append(ratio)\n",
    "        posterior_prob_k_Xi.append(ratio_k_i)\n",
    "    \n",
    "    posterior_prob_k_Xi = np.array(posterior_prob_k_Xi)\n",
    "\n",
    "    # M-step\n",
    "    # New parameters\n",
    "    for i in range(k):\n",
    "        if i not in all_mews:\n",
    "            all_mews[i] = []\n",
    "        else:\n",
    "            all_mews[i].append(mews[i])\n",
    "            \n",
    "        if i not in all_sd:\n",
    "            all_sd[i] = []\n",
    "        else:\n",
    "            all_sd[i].append(sd[i])\n",
    "\n",
    "        if float(sum(posterior_prob_k_Xi[i])) != 0.0:\n",
    "            sd[i] = math.sqrt(np.matmul(np.square(input_data - mews[i]).reshape((1,input_data.shape[0])), posterior_prob_k_Xi[i].reshape((input_data.shape[0],1)))[0][0] / float(sum(posterior_prob_k_Xi[i])))\n",
    "\n",
    "            mews[i] = np.matmul(input_data.reshape((1,input_data.shape[0])), posterior_prob_k_Xi[i].reshape((input_data.shape[0],1)))[0][0] / float(sum(posterior_prob_k_Xi[i]))\n",
    "            \n",
    "            mix_weights[i] = sum(posterior_prob_k_Xi[i]) / float(input_data.shape[0])\n",
    "\n",
    "        else:\n",
    "            print 'init parameters again because of non-convergence of EM step'\n",
    "            sd[i] = sd_constant*np.random.random_sample()\n",
    "            mews[i] = range_constant*np.random.random_sample()\n",
    "            mix_weights[i] = 1/float(k)\n",
    "\n",
    "            \n",
    "        \n"
   ]
  },
  {
   "cell_type": "code",
   "execution_count": null,
   "metadata": {},
   "outputs": [],
   "source": [
    "# Learning mean with each iteration\n",
    "for mean in all_mews:\n",
    "    plt.plot(all_mews[mean])"
   ]
  },
  {
   "cell_type": "code",
   "execution_count": null,
   "metadata": {},
   "outputs": [],
   "source": [
    "# Learning SD with each iteration\n",
    "for sds in all_sd:\n",
    "    plt.plot(all_sd[sds])"
   ]
  },
  {
   "cell_type": "code",
   "execution_count": null,
   "metadata": {},
   "outputs": [],
   "source": [
    "for i in range(k):\n",
    "    print 'Original Mean, SD: (' + str(input_gaussians[i]['mean']) + ', ' + str(input_gaussians[i]['sd']) + ')'\n",
    "\n",
    "print ''\n",
    "\n",
    "for i in range(k):\n",
    "    print 'Calculated Mean, SD: (' + str(mews[i]) + ', ' + str(sd[i]) + ')'"
   ]
  },
  {
   "cell_type": "code",
   "execution_count": null,
   "metadata": {},
   "outputs": [],
   "source": []
  }
 ],
 "metadata": {
  "kernelspec": {
   "display_name": "Python 2",
   "language": "python",
   "name": "python2"
  },
  "language_info": {
   "codemirror_mode": {
    "name": "ipython",
    "version": 2
   },
   "file_extension": ".py",
   "mimetype": "text/x-python",
   "name": "python",
   "nbconvert_exporter": "python",
   "pygments_lexer": "ipython2",
   "version": "2.7.15"
  }
 },
 "nbformat": 4,
 "nbformat_minor": 2
}
